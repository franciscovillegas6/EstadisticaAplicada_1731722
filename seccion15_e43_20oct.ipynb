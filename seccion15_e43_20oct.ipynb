{
 "cells": [
  {
   "cell_type": "markdown",
   "metadata": {},
   "source": [
    "## Estadistica Aplicada\n",
    "Seccion 15 - 20 oct 2023\n",
    "\n",
    "Francisco Humberto Villegas Reyna 1731722 gpo43"
   ]
  },
  {
   "cell_type": "code",
   "execution_count": 1,
   "metadata": {},
   "outputs": [],
   "source": [
    "## basicas\n",
    "import numpy as np\n",
    "import pandas as pd\n",
    "import matplotlib.pyplot as plt\n",
    "%matplotlib inline"
   ]
  },
  {
   "cell_type": "code",
   "execution_count": 41,
   "metadata": {},
   "outputs": [],
   "source": [
    "## especializadas \n",
    "from statsmodels.tsa.stattools import adfuller\n",
    "from statsmodels.graphics.tsaplots import plot_acf,plot_pacf, plot_predict\n",
    "\n",
    "## arima\n",
    "from statsmodels.tsa.arima.model import ARIMA\n",
    "\n",
    "## diagnostico del orden arima\n",
    "import pmdarima as pm"
   ]
  },
  {
   "cell_type": "code",
   "execution_count": 2,
   "metadata": {},
   "outputs": [
    {
     "name": "stdout",
     "output_type": "stream",
     "text": [
      "Collecting pmdarima\n",
      "  Downloading pmdarima-2.0.3-cp311-cp311-win_amd64.whl (566 kB)\n",
      "     ---------------------------------------- 0.0/566.2 kB ? eta -:--:--\n",
      "     -- ---------------------------------- 30.7/566.2 kB 660.6 kB/s eta 0:00:01\n",
      "     ---- -------------------------------- 61.4/566.2 kB 656.4 kB/s eta 0:00:01\n",
      "     ------ ------------------------------ 92.2/566.2 kB 655.4 kB/s eta 0:00:01\n",
      "     ------- ---------------------------- 112.6/566.2 kB 656.4 kB/s eta 0:00:01\n",
      "     ------- ---------------------------- 112.6/566.2 kB 656.4 kB/s eta 0:00:01\n",
      "     ------- ---------------------------- 112.6/566.2 kB 656.4 kB/s eta 0:00:01\n",
      "     ------- ---------------------------- 112.6/566.2 kB 656.4 kB/s eta 0:00:01\n",
      "     --------- -------------------------- 143.4/566.2 kB 369.8 kB/s eta 0:00:02\n",
      "     --------- -------------------------- 153.6/566.2 kB 366.6 kB/s eta 0:00:02\n",
      "     ------------ ----------------------- 194.6/566.2 kB 393.0 kB/s eta 0:00:01\n",
      "     -------------- --------------------- 235.5/566.2 kB 436.6 kB/s eta 0:00:01\n",
      "     ---------------- ------------------- 256.0/566.2 kB 449.3 kB/s eta 0:00:01\n",
      "     ------------------- ---------------- 307.2/566.2 kB 499.9 kB/s eta 0:00:01\n",
      "     --------------------- -------------- 337.9/566.2 kB 487.6 kB/s eta 0:00:01\n",
      "     ----------------------- ------------ 368.6/566.2 kB 509.8 kB/s eta 0:00:01\n",
      "     ------------------------- ---------- 399.4/566.2 kB 518.8 kB/s eta 0:00:01\n",
      "     --------------------------- -------- 430.1/566.2 kB 526.8 kB/s eta 0:00:01\n",
      "     ----------------------------- ------ 460.8/566.2 kB 544.2 kB/s eta 0:00:01\n",
      "     ------------------------------- ---- 491.5/566.2 kB 550.0 kB/s eta 0:00:01\n",
      "     ---------------------------------- - 542.7/566.2 kB 558.7 kB/s eta 0:00:01\n",
      "     ------------------------------------ 566.2/566.2 kB 556.0 kB/s eta 0:00:00\n",
      "Requirement already satisfied: joblib>=0.11 in c:\\users\\lenovo\\anaconda3\\lib\\site-packages (from pmdarima) (1.2.0)\n",
      "Collecting Cython!=0.29.18,!=0.29.31,>=0.29 (from pmdarima)\n",
      "  Obtaining dependency information for Cython!=0.29.18,!=0.29.31,>=0.29 from https://files.pythonhosted.org/packages/c2/74/7c176089951146fa93c831b26426cdea62eed727c28d5c8f4a77c7498db8/Cython-3.0.4-cp311-cp311-win_amd64.whl.metadata\n",
      "  Downloading Cython-3.0.4-cp311-cp311-win_amd64.whl.metadata (3.2 kB)\n",
      "Requirement already satisfied: numpy>=1.21.2 in c:\\users\\lenovo\\anaconda3\\lib\\site-packages (from pmdarima) (1.24.3)\n",
      "Requirement already satisfied: pandas>=0.19 in c:\\users\\lenovo\\anaconda3\\lib\\site-packages (from pmdarima) (1.5.3)\n",
      "Requirement already satisfied: scikit-learn>=0.22 in c:\\users\\lenovo\\anaconda3\\lib\\site-packages (from pmdarima) (1.3.0)\n",
      "Requirement already satisfied: scipy>=1.3.2 in c:\\users\\lenovo\\anaconda3\\lib\\site-packages (from pmdarima) (1.10.1)\n",
      "Requirement already satisfied: statsmodels>=0.13.2 in c:\\users\\lenovo\\anaconda3\\lib\\site-packages (from pmdarima) (0.14.0)\n",
      "Requirement already satisfied: urllib3 in c:\\users\\lenovo\\anaconda3\\lib\\site-packages (from pmdarima) (1.26.16)\n",
      "Requirement already satisfied: setuptools!=50.0.0,>=38.6.0 in c:\\users\\lenovo\\anaconda3\\lib\\site-packages (from pmdarima) (68.0.0)\n",
      "Requirement already satisfied: python-dateutil>=2.8.1 in c:\\users\\lenovo\\anaconda3\\lib\\site-packages (from pandas>=0.19->pmdarima) (2.8.2)\n",
      "Requirement already satisfied: pytz>=2020.1 in c:\\users\\lenovo\\anaconda3\\lib\\site-packages (from pandas>=0.19->pmdarima) (2022.7)\n",
      "Requirement already satisfied: threadpoolctl>=2.0.0 in c:\\users\\lenovo\\anaconda3\\lib\\site-packages (from scikit-learn>=0.22->pmdarima) (2.2.0)\n",
      "Requirement already satisfied: patsy>=0.5.2 in c:\\users\\lenovo\\anaconda3\\lib\\site-packages (from statsmodels>=0.13.2->pmdarima) (0.5.3)\n",
      "Requirement already satisfied: packaging>=21.3 in c:\\users\\lenovo\\anaconda3\\lib\\site-packages (from statsmodels>=0.13.2->pmdarima) (23.0)\n",
      "Requirement already satisfied: six in c:\\users\\lenovo\\anaconda3\\lib\\site-packages (from patsy>=0.5.2->statsmodels>=0.13.2->pmdarima) (1.16.0)\n",
      "Downloading Cython-3.0.4-cp311-cp311-win_amd64.whl (2.8 MB)\n",
      "   ---------------------------------------- 0.0/2.8 MB ? eta -:--:--\n",
      "   ---------------------------------------- 0.0/2.8 MB 640.0 kB/s eta 0:00:05\n",
      "    --------------------------------------- 0.0/2.8 MB 653.6 kB/s eta 0:00:05\n",
      "   - -------------------------------------- 0.1/2.8 MB 651.6 kB/s eta 0:00:05\n",
      "   - -------------------------------------- 0.1/2.8 MB 717.5 kB/s eta 0:00:04\n",
      "   -- ------------------------------------- 0.2/2.8 MB 701.4 kB/s eta 0:00:04\n",
      "   -- ------------------------------------- 0.2/2.8 MB 697.2 kB/s eta 0:00:04\n",
      "   -- ------------------------------------- 0.2/2.8 MB 655.1 kB/s eta 0:00:04\n",
      "   --- ------------------------------------ 0.2/2.8 MB 687.0 kB/s eta 0:00:04\n",
      "   --- ------------------------------------ 0.3/2.8 MB 655.4 kB/s eta 0:00:04\n",
      "   ---- ----------------------------------- 0.3/2.8 MB 631.2 kB/s eta 0:00:04\n",
      "   ---- ----------------------------------- 0.3/2.8 MB 675.6 kB/s eta 0:00:04\n",
      "   ----- ---------------------------------- 0.4/2.8 MB 694.6 kB/s eta 0:00:04\n",
      "   ------ --------------------------------- 0.4/2.8 MB 708.6 kB/s eta 0:00:04\n",
      "   ------ --------------------------------- 0.5/2.8 MB 704.5 kB/s eta 0:00:04\n",
      "   ------ --------------------------------- 0.5/2.8 MB 701.4 kB/s eta 0:00:04\n",
      "   ------- -------------------------------- 0.5/2.8 MB 699.2 kB/s eta 0:00:04\n",
      "   ------- -------------------------------- 0.6/2.8 MB 738.4 kB/s eta 0:00:04\n",
      "   -------- ------------------------------- 0.6/2.8 MB 706.6 kB/s eta 0:00:04\n",
      "   --------- ------------------------------ 0.6/2.8 MB 726.3 kB/s eta 0:00:03\n",
      "   --------- ------------------------------ 0.7/2.8 MB 733.0 kB/s eta 0:00:03\n",
      "   --------- ------------------------------ 0.7/2.8 MB 733.0 kB/s eta 0:00:03\n",
      "   --------- ------------------------------ 0.7/2.8 MB 733.0 kB/s eta 0:00:03\n",
      "   ---------- ----------------------------- 0.7/2.8 MB 684.7 kB/s eta 0:00:04\n",
      "   ---------- ----------------------------- 0.7/2.8 MB 664.2 kB/s eta 0:00:04\n",
      "   ----------- ---------------------------- 0.8/2.8 MB 673.1 kB/s eta 0:00:03\n",
      "   ----------- ---------------------------- 0.8/2.8 MB 680.9 kB/s eta 0:00:03\n",
      "   ------------ --------------------------- 0.8/2.8 MB 679.9 kB/s eta 0:00:03\n",
      "   ------------ --------------------------- 0.9/2.8 MB 686.9 kB/s eta 0:00:03\n",
      "   ------------- -------------------------- 1.0/2.8 MB 701.0 kB/s eta 0:00:03\n",
      "   -------------- ------------------------- 1.0/2.8 MB 714.1 kB/s eta 0:00:03\n",
      "   --------------- ------------------------ 1.0/2.8 MB 719.2 kB/s eta 0:00:03\n",
      "   --------------- ------------------------ 1.1/2.8 MB 725.9 kB/s eta 0:00:03\n",
      "   ---------------- ----------------------- 1.1/2.8 MB 744.1 kB/s eta 0:00:03\n",
      "   ----------------- ---------------------- 1.2/2.8 MB 752.8 kB/s eta 0:00:03\n",
      "   ----------------- ---------------------- 1.2/2.8 MB 762.5 kB/s eta 0:00:03\n",
      "   ------------------ --------------------- 1.3/2.8 MB 765.5 kB/s eta 0:00:02\n",
      "   ------------------- -------------------- 1.4/2.8 MB 786.3 kB/s eta 0:00:02\n",
      "   -------------------- ------------------- 1.4/2.8 MB 804.5 kB/s eta 0:00:02\n",
      "   --------------------- ------------------ 1.5/2.8 MB 807.7 kB/s eta 0:00:02\n",
      "   --------------------- ------------------ 1.5/2.8 MB 808.3 kB/s eta 0:00:02\n",
      "   ---------------------- ----------------- 1.6/2.8 MB 815.1 kB/s eta 0:00:02\n",
      "   ----------------------- ---------------- 1.6/2.8 MB 809.9 kB/s eta 0:00:02\n",
      "   ----------------------- ---------------- 1.6/2.8 MB 807.6 kB/s eta 0:00:02\n",
      "   ------------------------ --------------- 1.7/2.8 MB 803.2 kB/s eta 0:00:02\n",
      "   ------------------------ --------------- 1.7/2.8 MB 805.6 kB/s eta 0:00:02\n",
      "   ------------------------- -------------- 1.8/2.8 MB 801.5 kB/s eta 0:00:02\n",
      "   ------------------------- -------------- 1.8/2.8 MB 798.3 kB/s eta 0:00:02\n",
      "   -------------------------- ------------- 1.8/2.8 MB 789.8 kB/s eta 0:00:02\n",
      "   -------------------------- ------------- 1.8/2.8 MB 789.8 kB/s eta 0:00:02\n",
      "   -------------------------- ------------- 1.8/2.8 MB 789.8 kB/s eta 0:00:02\n",
      "   -------------------------- ------------- 1.8/2.8 MB 789.8 kB/s eta 0:00:02\n",
      "   -------------------------- ------------- 1.8/2.8 MB 789.8 kB/s eta 0:00:02\n",
      "   -------------------------- ------------- 1.8/2.8 MB 733.2 kB/s eta 0:00:02\n",
      "   -------------------------- ------------- 1.9/2.8 MB 732.0 kB/s eta 0:00:02\n",
      "   -------------------------- ------------- 1.9/2.8 MB 722.9 kB/s eta 0:00:02\n",
      "   --------------------------- ------------ 1.9/2.8 MB 717.8 kB/s eta 0:00:02\n",
      "   --------------------------- ------------ 1.9/2.8 MB 708.6 kB/s eta 0:00:02\n",
      "   --------------------------- ------------ 1.9/2.8 MB 696.3 kB/s eta 0:00:02\n",
      "   --------------------------- ------------ 1.9/2.8 MB 688.0 kB/s eta 0:00:02\n",
      "   --------------------------- ------------ 1.9/2.8 MB 688.0 kB/s eta 0:00:02\n",
      "   ---------------------------- ----------- 2.0/2.8 MB 676.7 kB/s eta 0:00:02\n",
      "   ---------------------------- ----------- 2.0/2.8 MB 676.2 kB/s eta 0:00:02\n",
      "   ----------------------------- ---------- 2.0/2.8 MB 672.4 kB/s eta 0:00:02\n",
      "   ----------------------------- ---------- 2.1/2.8 MB 678.9 kB/s eta 0:00:02\n",
      "   ------------------------------ --------- 2.1/2.8 MB 671.9 kB/s eta 0:00:02\n",
      "   ------------------------------ --------- 2.1/2.8 MB 671.7 kB/s eta 0:00:01\n",
      "   ------------------------------- -------- 2.2/2.8 MB 674.5 kB/s eta 0:00:01\n",
      "   ------------------------------- -------- 2.2/2.8 MB 677.4 kB/s eta 0:00:01\n",
      "   -------------------------------- ------- 2.2/2.8 MB 683.5 kB/s eta 0:00:01\n",
      "   -------------------------------- ------- 2.3/2.8 MB 683.1 kB/s eta 0:00:01\n",
      "   --------------------------------- ------ 2.3/2.8 MB 688.8 kB/s eta 0:00:01\n",
      "   --------------------------------- ------ 2.3/2.8 MB 685.5 kB/s eta 0:00:01\n",
      "   ---------------------------------- ----- 2.4/2.8 MB 684.8 kB/s eta 0:00:01\n",
      "   ---------------------------------- ----- 2.4/2.8 MB 684.6 kB/s eta 0:00:01\n",
      "   ----------------------------------- ---- 2.4/2.8 MB 684.2 kB/s eta 0:00:01\n",
      "   ----------------------------------- ---- 2.5/2.8 MB 683.8 kB/s eta 0:00:01\n",
      "   ----------------------------------- ---- 2.5/2.8 MB 686.4 kB/s eta 0:00:01\n",
      "   ------------------------------------ --- 2.5/2.8 MB 683.2 kB/s eta 0:00:01\n",
      "   ------------------------------------ --- 2.5/2.8 MB 679.9 kB/s eta 0:00:01\n",
      "   ------------------------------------- -- 2.6/2.8 MB 682.5 kB/s eta 0:00:01\n",
      "   ------------------------------------- -- 2.6/2.8 MB 679.5 kB/s eta 0:00:01\n",
      "   -------------------------------------- - 2.7/2.8 MB 684.4 kB/s eta 0:00:01\n",
      "   -------------------------------------- - 2.7/2.8 MB 684.1 kB/s eta 0:00:01\n",
      "   -------------------------------------- - 2.7/2.8 MB 673.2 kB/s eta 0:00:01\n",
      "   -------------------------------------- - 2.7/2.8 MB 673.2 kB/s eta 0:00:01\n",
      "   ---------------------------------------  2.7/2.8 MB 670.5 kB/s eta 0:00:01\n",
      "   ---------------------------------------  2.7/2.8 MB 667.8 kB/s eta 0:00:01\n",
      "   ---------------------------------------  2.8/2.8 MB 665.1 kB/s eta 0:00:01\n",
      "   ---------------------------------------- 2.8/2.8 MB 664.1 kB/s eta 0:00:00\n",
      "Installing collected packages: Cython, pmdarima\n",
      "Successfully installed Cython-3.0.4 pmdarima-2.0.3\n",
      "Note: you may need to restart the kernel to use updated packages.\n"
     ]
    },
    {
     "name": "stderr",
     "output_type": "stream",
     "text": [
      "ERROR: pip's dependency resolver does not currently take into account all the packages that are installed. This behaviour is the source of the following dependency conflicts.\n",
      "tables 3.8.0 requires blosc2~=2.0.0, which is not installed.\n"
     ]
    }
   ],
   "source": [
    "pip install pmdarima"
   ]
  },
  {
   "cell_type": "code",
   "execution_count": 8,
   "metadata": {},
   "outputs": [],
   "source": [
    "##datos\n",
    "df_amazon=pd.read_excel('amazon.xlsx')"
   ]
  },
  {
   "cell_type": "code",
   "execution_count": 9,
   "metadata": {},
   "outputs": [
    {
     "data": {
      "text/html": [
       "<div>\n",
       "<style scoped>\n",
       "    .dataframe tbody tr th:only-of-type {\n",
       "        vertical-align: middle;\n",
       "    }\n",
       "\n",
       "    .dataframe tbody tr th {\n",
       "        vertical-align: top;\n",
       "    }\n",
       "\n",
       "    .dataframe thead th {\n",
       "        text-align: right;\n",
       "    }\n",
       "</style>\n",
       "<table border=\"1\" class=\"dataframe\">\n",
       "  <thead>\n",
       "    <tr style=\"text-align: right;\">\n",
       "      <th></th>\n",
       "      <th>fecha</th>\n",
       "      <th>amazon</th>\n",
       "    </tr>\n",
       "  </thead>\n",
       "  <tbody>\n",
       "    <tr>\n",
       "      <th>0</th>\n",
       "      <td>2015-01-02</td>\n",
       "      <td>24.573591</td>\n",
       "    </tr>\n",
       "    <tr>\n",
       "      <th>1</th>\n",
       "      <td>2015-01-05</td>\n",
       "      <td>23.830631</td>\n",
       "    </tr>\n",
       "    <tr>\n",
       "      <th>2</th>\n",
       "      <td>2015-01-06</td>\n",
       "      <td>24.070295</td>\n",
       "    </tr>\n",
       "    <tr>\n",
       "      <th>3</th>\n",
       "      <td>2015-01-07</td>\n",
       "      <td>24.453760</td>\n",
       "    </tr>\n",
       "    <tr>\n",
       "      <th>4</th>\n",
       "      <td>2015-01-08</td>\n",
       "      <td>24.301968</td>\n",
       "    </tr>\n",
       "  </tbody>\n",
       "</table>\n",
       "</div>"
      ],
      "text/plain": [
       "       fecha     amazon\n",
       "0 2015-01-02  24.573591\n",
       "1 2015-01-05  23.830631\n",
       "2 2015-01-06  24.070295\n",
       "3 2015-01-07  24.453760\n",
       "4 2015-01-08  24.301968"
      ]
     },
     "execution_count": 9,
     "metadata": {},
     "output_type": "execute_result"
    }
   ],
   "source": [
    "df_amazon.head()"
   ]
  },
  {
   "cell_type": "code",
   "execution_count": 10,
   "metadata": {},
   "outputs": [
    {
     "data": {
      "text/html": [
       "<div>\n",
       "<style scoped>\n",
       "    .dataframe tbody tr th:only-of-type {\n",
       "        vertical-align: middle;\n",
       "    }\n",
       "\n",
       "    .dataframe tbody tr th {\n",
       "        vertical-align: top;\n",
       "    }\n",
       "\n",
       "    .dataframe thead th {\n",
       "        text-align: right;\n",
       "    }\n",
       "</style>\n",
       "<table border=\"1\" class=\"dataframe\">\n",
       "  <thead>\n",
       "    <tr style=\"text-align: right;\">\n",
       "      <th></th>\n",
       "      <th>fecha</th>\n",
       "      <th>amazon</th>\n",
       "    </tr>\n",
       "  </thead>\n",
       "  <tbody>\n",
       "    <tr>\n",
       "      <th>1250</th>\n",
       "      <td>2019-12-23</td>\n",
       "      <td>52.589653</td>\n",
       "    </tr>\n",
       "    <tr>\n",
       "      <th>1251</th>\n",
       "      <td>2019-12-24</td>\n",
       "      <td>52.599163</td>\n",
       "    </tr>\n",
       "    <tr>\n",
       "      <th>1252</th>\n",
       "      <td>2019-12-26</td>\n",
       "      <td>52.561153</td>\n",
       "    </tr>\n",
       "    <tr>\n",
       "      <th>1253</th>\n",
       "      <td>2019-12-27</td>\n",
       "      <td>52.865196</td>\n",
       "    </tr>\n",
       "    <tr>\n",
       "      <th>1254</th>\n",
       "      <td>2019-12-30</td>\n",
       "      <td>51.478008</td>\n",
       "    </tr>\n",
       "  </tbody>\n",
       "</table>\n",
       "</div>"
      ],
      "text/plain": [
       "          fecha     amazon\n",
       "1250 2019-12-23  52.589653\n",
       "1251 2019-12-24  52.599163\n",
       "1252 2019-12-26  52.561153\n",
       "1253 2019-12-27  52.865196\n",
       "1254 2019-12-30  51.478008"
      ]
     },
     "execution_count": 10,
     "metadata": {},
     "output_type": "execute_result"
    }
   ],
   "source": [
    "df_amazon.tail()"
   ]
  },
  {
   "cell_type": "code",
   "execution_count": 14,
   "metadata": {},
   "outputs": [],
   "source": [
    "ultima_obs=df_amazon.loc[1254]\n",
    "df_amazon=df_amazon.loc[:1253]"
   ]
  },
  {
   "cell_type": "code",
   "execution_count": 15,
   "metadata": {},
   "outputs": [
    {
     "data": {
      "text/plain": [
       "fecha     2019-12-30 00:00:00\n",
       "amazon              51.478008\n",
       "Name: 1254, dtype: object"
      ]
     },
     "execution_count": 15,
     "metadata": {},
     "output_type": "execute_result"
    }
   ],
   "source": [
    "ultima_obs"
   ]
  },
  {
   "cell_type": "code",
   "execution_count": 16,
   "metadata": {},
   "outputs": [
    {
     "data": {
      "text/html": [
       "<div>\n",
       "<style scoped>\n",
       "    .dataframe tbody tr th:only-of-type {\n",
       "        vertical-align: middle;\n",
       "    }\n",
       "\n",
       "    .dataframe tbody tr th {\n",
       "        vertical-align: top;\n",
       "    }\n",
       "\n",
       "    .dataframe thead th {\n",
       "        text-align: right;\n",
       "    }\n",
       "</style>\n",
       "<table border=\"1\" class=\"dataframe\">\n",
       "  <thead>\n",
       "    <tr style=\"text-align: right;\">\n",
       "      <th></th>\n",
       "      <th>fecha</th>\n",
       "      <th>amazon</th>\n",
       "    </tr>\n",
       "  </thead>\n",
       "  <tbody>\n",
       "    <tr>\n",
       "      <th>1249</th>\n",
       "      <td>2019-12-20</td>\n",
       "      <td>54.128864</td>\n",
       "    </tr>\n",
       "    <tr>\n",
       "      <th>1250</th>\n",
       "      <td>2019-12-23</td>\n",
       "      <td>52.589653</td>\n",
       "    </tr>\n",
       "    <tr>\n",
       "      <th>1251</th>\n",
       "      <td>2019-12-24</td>\n",
       "      <td>52.599163</td>\n",
       "    </tr>\n",
       "    <tr>\n",
       "      <th>1252</th>\n",
       "      <td>2019-12-26</td>\n",
       "      <td>52.561153</td>\n",
       "    </tr>\n",
       "    <tr>\n",
       "      <th>1253</th>\n",
       "      <td>2019-12-27</td>\n",
       "      <td>52.865196</td>\n",
       "    </tr>\n",
       "  </tbody>\n",
       "</table>\n",
       "</div>"
      ],
      "text/plain": [
       "          fecha     amazon\n",
       "1249 2019-12-20  54.128864\n",
       "1250 2019-12-23  52.589653\n",
       "1251 2019-12-24  52.599163\n",
       "1252 2019-12-26  52.561153\n",
       "1253 2019-12-27  52.865196"
      ]
     },
     "execution_count": 16,
     "metadata": {},
     "output_type": "execute_result"
    }
   ],
   "source": [
    "df_amazon.tail()"
   ]
  },
  {
   "cell_type": "code",
   "execution_count": 17,
   "metadata": {},
   "outputs": [
    {
     "data": {
      "text/plain": [
       "fecha     datetime64[ns]\n",
       "amazon           float64\n",
       "dtype: object"
      ]
     },
     "execution_count": 17,
     "metadata": {},
     "output_type": "execute_result"
    }
   ],
   "source": [
    "## variable de tiempo\n",
    "## variable tiempo debe ser index\n",
    "## frecuencia asignada\n",
    "df_amazon.dtypes"
   ]
  },
  {
   "cell_type": "code",
   "execution_count": 18,
   "metadata": {},
   "outputs": [],
   "source": [
    "## convertir en index \n",
    "df_amazon=df_amazon.set_index('fecha')"
   ]
  },
  {
   "cell_type": "code",
   "execution_count": 19,
   "metadata": {},
   "outputs": [],
   "source": [
    "## asignar frecuencia\n",
    "## los precios los tenemos por dias habiles\n",
    "## dias habiles --- bussiness days\n",
    "\n",
    "df_amazon=df_amazon.asfreq('B')"
   ]
  },
  {
   "cell_type": "code",
   "execution_count": 20,
   "metadata": {},
   "outputs": [
    {
     "data": {
      "text/plain": [
       "DatetimeIndex(['2015-01-02', '2015-01-05', '2015-01-06', '2015-01-07',\n",
       "               '2015-01-08', '2015-01-09', '2015-01-12', '2015-01-13',\n",
       "               '2015-01-14', '2015-01-15',\n",
       "               ...\n",
       "               '2019-12-16', '2019-12-17', '2019-12-18', '2019-12-19',\n",
       "               '2019-12-20', '2019-12-23', '2019-12-24', '2019-12-25',\n",
       "               '2019-12-26', '2019-12-27'],\n",
       "              dtype='datetime64[ns]', name='fecha', length=1301, freq='B')"
      ]
     },
     "execution_count": 20,
     "metadata": {},
     "output_type": "execute_result"
    }
   ],
   "source": [
    "df_amazon.index"
   ]
  },
  {
   "cell_type": "code",
   "execution_count": 21,
   "metadata": {},
   "outputs": [
    {
     "data": {
      "text/plain": [
       "<Axes: xlabel='fecha'>"
      ]
     },
     "execution_count": 21,
     "metadata": {},
     "output_type": "execute_result"
    },
    {
     "data": {
      "image/png": "[encoded data removed]",
      "text/plain": [
       "<Figure size 1200x500 with 1 Axes>"
      ]
     },
     "metadata": {},
     "output_type": "display_data"
    }
   ],
   "source": [
    "## graficar\n",
    "df_amazon['amazon'].plot(figsize=(12,5))"
   ]
  },
  {
   "cell_type": "code",
   "execution_count": 22,
   "metadata": {},
   "outputs": [
    {
     "data": {
      "text/plain": [
       "amazon    47\n",
       "dtype: int64"
      ]
     },
     "execution_count": 22,
     "metadata": {},
     "output_type": "execute_result"
    }
   ],
   "source": [
    "df_amazon.isnull().sum()"
   ]
  },
  {
   "cell_type": "code",
   "execution_count": 23,
   "metadata": {},
   "outputs": [],
   "source": [
    "## rellenar los missing values\n",
    "\n",
    "df_amazon['amazon']=df_amazon['amazon'].fillna(method='pad')"
   ]
  },
  {
   "cell_type": "code",
   "execution_count": 24,
   "metadata": {},
   "outputs": [
    {
     "data": {
      "text/plain": [
       "<Axes: xlabel='fecha'>"
      ]
     },
     "execution_count": 24,
     "metadata": {},
     "output_type": "execute_result"
    },
    {
     "data": {
      "image/png": "[encoded data removed]",
      "text/plain": [
       "<Figure size 1200x500 with 1 Axes>"
      ]
     },
     "metadata": {},
     "output_type": "display_data"
    }
   ],
   "source": [
    "## graficar\n",
    "df_amazon['amazon'].plot(figsize=(12,5))"
   ]
  },
  {
   "cell_type": "markdown",
   "metadata": {},
   "source": [
    "los precios de la accion de amazon se comportan como una caminata aleatoria y por lo tanto deberia ser un proceso no estacionario"
   ]
  },
  {
   "cell_type": "code",
   "execution_count": 25,
   "metadata": {},
   "outputs": [
    {
     "data": {
      "text/plain": [
       "0.52"
      ]
     },
     "execution_count": 25,
     "metadata": {},
     "output_type": "execute_result"
    }
   ],
   "source": [
    "## prueba de dickyFuller aumentada\n",
    "## Ho: No estacionaria\n",
    "## Ha: Estacionaria\n",
    "\n",
    "pruebra_ADF=adfuller(df_amazon['amazon']) \n",
    "pvalue=pruebra_ADF[1]\n",
    "pvalue.round(2)"
   ]
  },
  {
   "cell_type": "markdown",
   "metadata": {},
   "source": [
    "No se rechaza H0, significa que el precio de la accion de amazon es una serie **no estacionaria**\n"
   ]
  },
  {
   "cell_type": "code",
   "execution_count": 26,
   "metadata": {},
   "outputs": [],
   "source": [
    "## aplicar 1ras diferencias al precio de la accion de amazon\n",
    "\n",
    "df_amazon['amazon_dif']=df_amazon['amazon'].diff()\n"
   ]
  },
  {
   "cell_type": "code",
   "execution_count": 27,
   "metadata": {},
   "outputs": [
    {
     "data": {
      "text/html": [
       "<div>\n",
       "<style scoped>\n",
       "    .dataframe tbody tr th:only-of-type {\n",
       "        vertical-align: middle;\n",
       "    }\n",
       "\n",
       "    .dataframe tbody tr th {\n",
       "        vertical-align: top;\n",
       "    }\n",
       "\n",
       "    .dataframe thead th {\n",
       "        text-align: right;\n",
       "    }\n",
       "</style>\n",
       "<table border=\"1\" class=\"dataframe\">\n",
       "  <thead>\n",
       "    <tr style=\"text-align: right;\">\n",
       "      <th></th>\n",
       "      <th>amazon</th>\n",
       "      <th>amazon_dif</th>\n",
       "    </tr>\n",
       "    <tr>\n",
       "      <th>fecha</th>\n",
       "      <th></th>\n",
       "      <th></th>\n",
       "    </tr>\n",
       "  </thead>\n",
       "  <tbody>\n",
       "    <tr>\n",
       "      <th>2015-01-02</th>\n",
       "      <td>24.573591</td>\n",
       "      <td>NaN</td>\n",
       "    </tr>\n",
       "    <tr>\n",
       "      <th>2015-01-05</th>\n",
       "      <td>23.830631</td>\n",
       "      <td>-0.742960</td>\n",
       "    </tr>\n",
       "    <tr>\n",
       "      <th>2015-01-06</th>\n",
       "      <td>24.070295</td>\n",
       "      <td>0.239664</td>\n",
       "    </tr>\n",
       "    <tr>\n",
       "      <th>2015-01-07</th>\n",
       "      <td>24.453760</td>\n",
       "      <td>0.383465</td>\n",
       "    </tr>\n",
       "    <tr>\n",
       "      <th>2015-01-08</th>\n",
       "      <td>24.301968</td>\n",
       "      <td>-0.151793</td>\n",
       "    </tr>\n",
       "  </tbody>\n",
       "</table>\n",
       "</div>"
      ],
      "text/plain": [
       "               amazon  amazon_dif\n",
       "fecha                            \n",
       "2015-01-02  24.573591         NaN\n",
       "2015-01-05  23.830631   -0.742960\n",
       "2015-01-06  24.070295    0.239664\n",
       "2015-01-07  24.453760    0.383465\n",
       "2015-01-08  24.301968   -0.151793"
      ]
     },
     "execution_count": 27,
     "metadata": {},
     "output_type": "execute_result"
    }
   ],
   "source": [
    "df_amazon.head()"
   ]
  },
  {
   "cell_type": "code",
   "execution_count": 29,
   "metadata": {},
   "outputs": [
    {
     "data": {
      "image/png": "[encoded data removed]",
      "text/plain": [
       "<Figure size 640x480 with 1 Axes>"
      ]
     },
     "metadata": {},
     "output_type": "display_data"
    }
   ],
   "source": [
    "df_amazon['amazon_dif'].plot();"
   ]
  },
  {
   "cell_type": "code",
   "execution_count": 32,
   "metadata": {},
   "outputs": [
    {
     "data": {
      "text/plain": [
       "0.0"
      ]
     },
     "execution_count": 32,
     "metadata": {},
     "output_type": "execute_result"
    }
   ],
   "source": [
    "## prueba dickey-fuller aumentada\n",
    "pruebra_ADF1=adfuller(df_amazon['amazon_dif'].dropna())\n",
    "pvalue1=pruebra_ADF1[1]\n",
    "pvalue1.round(2)"
   ]
  },
  {
   "cell_type": "markdown",
   "metadata": {},
   "source": [
    "Rechazamos H0, las primeras diferencias de amazon son un proceso estacionario\n",
    "* amazon integrado I(1)\n",
    "* las primeras diferencias  integrado I(0)"
   ]
  },
  {
   "cell_type": "markdown",
   "metadata": {},
   "source": [
    "Ya sabemos que las 1ras diferencias son procesos estacionario ¿que tipo de proceso estacionario son?\\ \n",
    "* ruido blanco\n",
    "* AR(p)\n",
    "* MA(q)\n",
    "* ARMA(p,q)\n"
   ]
  },
  {
   "cell_type": "code",
   "execution_count": 36,
   "metadata": {},
   "outputs": [
    {
     "data": {
      "image/png": "[encoded data removed]",
      "text/plain": [
       "<Figure size 1000x400 with 2 Axes>"
      ]
     },
     "metadata": {},
     "output_type": "display_data"
    }
   ],
   "source": [
    "## graficas de autocorrelacion \n",
    "ig, ax=plt.subplots(1,2,figsize=(10,4))\n",
    "## 1er subgrafica\n",
    "plot_acf(df_amazon['amazon_dif'].dropna(), zero=False, lags=30,ax=ax[0],title='Funcion de autocorrelacion ACF ')\n",
    "## 2do  subgrafica\n",
    "plot_pacf(df_amazon['amazon_dif'].dropna(),zero=False,lags=30,ax=ax[1], title='Funcion de autorrelacion parcial PACF')\n",
    "plt.show()"
   ]
  },
  {
   "cell_type": "markdown",
   "metadata": {},
   "source": [
    "Hay que comparar con las graficas de como se comportan los distintos procesos estacionarios"
   ]
  },
  {
   "cell_type": "code",
   "execution_count": 38,
   "metadata": {},
   "outputs": [
    {
     "data": {
      "image/png": "[encoded data removed]",
      "text/plain": [
       "<Figure size 1000x400 with 2 Axes>"
      ]
     },
     "metadata": {},
     "output_type": "display_data"
    }
   ],
   "source": [
    "## graficas de autocorrelacion \n",
    "ig, ax=plt.subplots(1,2,figsize=(10,4))\n",
    "## 1er subgrafica\n",
    "plot_acf(df_amazon['amazon'].dropna(), zero=False, lags=30,ax=ax[0],title='Funcion de autocorrelacion ACF ')\n",
    "## 2do  subgrafica\n",
    "plot_pacf(df_amazon['amazon'].dropna(),zero=False,lags=30,ax=ax[1], title='Funcion de autorrelacion parcial PACF')\n",
    "plt.show()"
   ]
  },
  {
   "cell_type": "code",
   "execution_count": 42,
   "metadata": {},
   "outputs": [
    {
     "name": "stdout",
     "output_type": "stream",
     "text": [
      "                               SARIMAX Results                                \n",
      "==============================================================================\n",
      "Dep. Variable:             amazon_dif   No. Observations:                 1301\n",
      "Model:                 ARIMA(1, 0, 0)   Log Likelihood               -1189.362\n",
      "Date:                Fri, 20 Oct 2023   AIC                           2384.724\n",
      "Time:                        15:59:25   BIC                           2400.236\n",
      "Sample:                    01-02-2015   HQIC                          2390.544\n",
      "                         - 12-27-2019                                         \n",
      "Covariance Type:                  opg                                         \n",
      "==============================================================================\n",
      "                 coef    std err          z      P>|z|      [0.025      0.975]\n",
      "------------------------------------------------------------------------------\n",
      "const          0.0218      0.016      1.394      0.163      -0.009       0.052\n",
      "ar.L1         -0.0839      0.023     -3.686      0.000      -0.128      -0.039\n",
      "sigma2         0.3649      0.008     44.372      0.000       0.349       0.381\n",
      "===================================================================================\n",
      "Ljung-Box (L1) (Q):                   0.03   Jarque-Bera (JB):               997.84\n",
      "Prob(Q):                              0.86   Prob(JB):                         0.00\n",
      "Heteroskedasticity (H):               2.36   Skew:                            -0.36\n",
      "Prob(H) (two-sided):                  0.00   Kurtosis:                         7.23\n",
      "===================================================================================\n",
      "\n",
      "Warnings:\n",
      "[1] Covariance matrix calculated using the outer product of gradients (complex-step).\n"
     ]
    }
   ],
   "source": [
    "## suponer que las 1as Diff son un AR(1)=ARMA(1,0,0)\n",
    "modelo_prueba=ARIMA(df_amazon['amazon_dif'], order=(1,0,0))\n",
    "resultado=modelo_prueba.fit()\n",
    "print(resultado.summary())"
   ]
  },
  {
   "cell_type": "markdown",
   "metadata": {},
   "source": [
    "La ecuacion de este modelo AR(1):\n",
    "$$Y_t=\\phi Y_{t-1}+\\varepsilon_t=-0.083 y_{t-1} + \\varepsilon_t $$"
   ]
  },
  {
   "cell_type": "code",
   "execution_count": 43,
   "metadata": {},
   "outputs": [
    {
     "name": "stdout",
     "output_type": "stream",
     "text": [
      "                               SARIMAX Results                                \n",
      "==============================================================================\n",
      "Dep. Variable:             amazon_dif   No. Observations:                 1301\n",
      "Model:                 ARIMA(2, 0, 0)   Log Likelihood               -1187.282\n",
      "Date:                Fri, 20 Oct 2023   AIC                           2382.565\n",
      "Time:                        16:04:41   BIC                           2403.248\n",
      "Sample:                    01-02-2015   HQIC                          2390.325\n",
      "                         - 12-27-2019                                         \n",
      "Covariance Type:                  opg                                         \n",
      "==============================================================================\n",
      "                 coef    std err          z      P>|z|      [0.025      0.975]\n",
      "------------------------------------------------------------------------------\n",
      "const          0.0218      0.015      1.477      0.140      -0.007       0.051\n",
      "ar.L1         -0.0886      0.023     -3.803      0.000      -0.134      -0.043\n",
      "ar.L2         -0.0565      0.026     -2.185      0.029      -0.107      -0.006\n",
      "sigma2         0.3637      0.008     44.388      0.000       0.348       0.380\n",
      "===================================================================================\n",
      "Ljung-Box (L1) (Q):                   0.00   Jarque-Bera (JB):              1005.89\n",
      "Prob(Q):                              0.95   Prob(JB):                         0.00\n",
      "Heteroskedasticity (H):               2.36   Skew:                            -0.36\n",
      "Prob(H) (two-sided):                  0.00   Kurtosis:                         7.25\n",
      "===================================================================================\n",
      "\n",
      "Warnings:\n",
      "[1] Covariance matrix calculated using the outer product of gradients (complex-step).\n"
     ]
    }
   ],
   "source": [
    "## vamos a suponer que las 1ras diferencias son un AR(2)=ARMA(2,0)=ARIMA(2,0,0)\n",
    "modelo_prueba=ARIMA(df_amazon['amazon_dif'], order=(2,0,0))\n",
    "resultadop=modelo_prueba.fit()\n",
    "print(resultadop.summary())"
   ]
  },
  {
   "cell_type": "code",
   "execution_count": 46,
   "metadata": {},
   "outputs": [
    {
     "name": "stdout",
     "output_type": "stream",
     "text": [
      "AR: 0, MA: 0\n",
      "AR: 0, MA: 1\n",
      "AR: 0, MA: 2\n",
      "AR: 0, MA: 3\n",
      "AR: 0, MA: 4\n",
      "AR: 0, MA: 5\n",
      "AR: 0, MA: 6\n",
      "AR: 1, MA: 0\n",
      "AR: 1, MA: 1\n",
      "AR: 1, MA: 2\n",
      "AR: 1, MA: 3\n",
      "AR: 1, MA: 4\n",
      "AR: 1, MA: 5\n",
      "AR: 1, MA: 6\n",
      "AR: 2, MA: 0\n",
      "AR: 2, MA: 1\n",
      "AR: 2, MA: 2\n"
     ]
    },
    {
     "name": "stderr",
     "output_type": "stream",
     "text": [
      "c:\\Users\\Lenovo\\anaconda3\\Lib\\site-packages\\statsmodels\\tsa\\statespace\\sarimax.py:966: UserWarning: Non-stationary starting autoregressive parameters found. Using zeros as starting parameters.\n",
      "  warn('Non-stationary starting autoregressive parameters'\n",
      "c:\\Users\\Lenovo\\anaconda3\\Lib\\site-packages\\statsmodels\\tsa\\statespace\\sarimax.py:978: UserWarning: Non-invertible starting MA parameters found. Using zeros as starting parameters.\n",
      "  warn('Non-invertible starting MA parameters found.'\n"
     ]
    },
    {
     "name": "stdout",
     "output_type": "stream",
     "text": [
      "AR: 2, MA: 3\n",
      "AR: 2, MA: 4\n",
      "AR: 2, MA: 5\n",
      "AR: 2, MA: 6\n",
      "AR: 3, MA: 0\n",
      "AR: 3, MA: 1\n",
      "AR: 3, MA: 2\n"
     ]
    },
    {
     "name": "stderr",
     "output_type": "stream",
     "text": [
      "c:\\Users\\Lenovo\\anaconda3\\Lib\\site-packages\\statsmodels\\tsa\\statespace\\sarimax.py:966: UserWarning: Non-stationary starting autoregressive parameters found. Using zeros as starting parameters.\n",
      "  warn('Non-stationary starting autoregressive parameters'\n",
      "c:\\Users\\Lenovo\\anaconda3\\Lib\\site-packages\\statsmodels\\tsa\\statespace\\sarimax.py:978: UserWarning: Non-invertible starting MA parameters found. Using zeros as starting parameters.\n",
      "  warn('Non-invertible starting MA parameters found.'\n"
     ]
    },
    {
     "name": "stdout",
     "output_type": "stream",
     "text": [
      "AR: 3, MA: 3\n"
     ]
    },
    {
     "name": "stderr",
     "output_type": "stream",
     "text": [
      "c:\\Users\\Lenovo\\anaconda3\\Lib\\site-packages\\statsmodels\\base\\model.py:607: ConvergenceWarning: Maximum Likelihood optimization failed to converge. Check mle_retvals\n",
      "  warnings.warn(\"Maximum Likelihood optimization failed to \"\n"
     ]
    },
    {
     "name": "stdout",
     "output_type": "stream",
     "text": [
      "AR: 3, MA: 4\n"
     ]
    },
    {
     "name": "stderr",
     "output_type": "stream",
     "text": [
      "c:\\Users\\Lenovo\\anaconda3\\Lib\\site-packages\\statsmodels\\base\\model.py:607: ConvergenceWarning: Maximum Likelihood optimization failed to converge. Check mle_retvals\n",
      "  warnings.warn(\"Maximum Likelihood optimization failed to \"\n"
     ]
    },
    {
     "name": "stdout",
     "output_type": "stream",
     "text": [
      "AR: 3, MA: 5\n"
     ]
    },
    {
     "name": "stderr",
     "output_type": "stream",
     "text": [
      "c:\\Users\\Lenovo\\anaconda3\\Lib\\site-packages\\statsmodels\\base\\model.py:607: ConvergenceWarning: Maximum Likelihood optimization failed to converge. Check mle_retvals\n",
      "  warnings.warn(\"Maximum Likelihood optimization failed to \"\n"
     ]
    },
    {
     "name": "stdout",
     "output_type": "stream",
     "text": [
      "AR: 3, MA: 6\n"
     ]
    },
    {
     "name": "stderr",
     "output_type": "stream",
     "text": [
      "c:\\Users\\Lenovo\\anaconda3\\Lib\\site-packages\\statsmodels\\base\\model.py:607: ConvergenceWarning: Maximum Likelihood optimization failed to converge. Check mle_retvals\n",
      "  warnings.warn(\"Maximum Likelihood optimization failed to \"\n"
     ]
    },
    {
     "name": "stdout",
     "output_type": "stream",
     "text": [
      "AR: 4, MA: 0\n",
      "AR: 4, MA: 1\n",
      "AR: 4, MA: 2\n"
     ]
    },
    {
     "name": "stderr",
     "output_type": "stream",
     "text": [
      "c:\\Users\\Lenovo\\anaconda3\\Lib\\site-packages\\statsmodels\\tsa\\statespace\\sarimax.py:966: UserWarning: Non-stationary starting autoregressive parameters found. Using zeros as starting parameters.\n",
      "  warn('Non-stationary starting autoregressive parameters'\n",
      "c:\\Users\\Lenovo\\anaconda3\\Lib\\site-packages\\statsmodels\\tsa\\statespace\\sarimax.py:978: UserWarning: Non-invertible starting MA parameters found. Using zeros as starting parameters.\n",
      "  warn('Non-invertible starting MA parameters found.'\n"
     ]
    },
    {
     "name": "stdout",
     "output_type": "stream",
     "text": [
      "AR: 4, MA: 3\n",
      "AR: 4, MA: 4\n"
     ]
    },
    {
     "name": "stderr",
     "output_type": "stream",
     "text": [
      "c:\\Users\\Lenovo\\anaconda3\\Lib\\site-packages\\statsmodels\\base\\model.py:607: ConvergenceWarning: Maximum Likelihood optimization failed to converge. Check mle_retvals\n",
      "  warnings.warn(\"Maximum Likelihood optimization failed to \"\n",
      "c:\\Users\\Lenovo\\anaconda3\\Lib\\site-packages\\statsmodels\\tsa\\statespace\\sarimax.py:966: UserWarning: Non-stationary starting autoregressive parameters found. Using zeros as starting parameters.\n",
      "  warn('Non-stationary starting autoregressive parameters'\n",
      "c:\\Users\\Lenovo\\anaconda3\\Lib\\site-packages\\statsmodels\\tsa\\statespace\\sarimax.py:978: UserWarning: Non-invertible starting MA parameters found. Using zeros as starting parameters.\n",
      "  warn('Non-invertible starting MA parameters found.'\n"
     ]
    },
    {
     "name": "stdout",
     "output_type": "stream",
     "text": [
      "AR: 4, MA: 5\n"
     ]
    },
    {
     "name": "stderr",
     "output_type": "stream",
     "text": [
      "c:\\Users\\Lenovo\\anaconda3\\Lib\\site-packages\\statsmodels\\base\\model.py:607: ConvergenceWarning: Maximum Likelihood optimization failed to converge. Check mle_retvals\n",
      "  warnings.warn(\"Maximum Likelihood optimization failed to \"\n",
      "c:\\Users\\Lenovo\\anaconda3\\Lib\\site-packages\\statsmodels\\tsa\\statespace\\sarimax.py:966: UserWarning: Non-stationary starting autoregressive parameters found. Using zeros as starting parameters.\n",
      "  warn('Non-stationary starting autoregressive parameters'\n",
      "c:\\Users\\Lenovo\\anaconda3\\Lib\\site-packages\\statsmodels\\tsa\\statespace\\sarimax.py:978: UserWarning: Non-invertible starting MA parameters found. Using zeros as starting parameters.\n",
      "  warn('Non-invertible starting MA parameters found.'\n"
     ]
    },
    {
     "name": "stdout",
     "output_type": "stream",
     "text": [
      "AR: 4, MA: 6\n"
     ]
    },
    {
     "name": "stderr",
     "output_type": "stream",
     "text": [
      "c:\\Users\\Lenovo\\anaconda3\\Lib\\site-packages\\statsmodels\\base\\model.py:607: ConvergenceWarning: Maximum Likelihood optimization failed to converge. Check mle_retvals\n",
      "  warnings.warn(\"Maximum Likelihood optimization failed to \"\n"
     ]
    },
    {
     "name": "stdout",
     "output_type": "stream",
     "text": [
      "AR: 5, MA: 0\n",
      "AR: 5, MA: 1\n",
      "AR: 5, MA: 2\n",
      "AR: 5, MA: 3\n"
     ]
    },
    {
     "name": "stderr",
     "output_type": "stream",
     "text": [
      "c:\\Users\\Lenovo\\anaconda3\\Lib\\site-packages\\statsmodels\\tsa\\statespace\\sarimax.py:966: UserWarning: Non-stationary starting autoregressive parameters found. Using zeros as starting parameters.\n",
      "  warn('Non-stationary starting autoregressive parameters'\n",
      "c:\\Users\\Lenovo\\anaconda3\\Lib\\site-packages\\statsmodels\\tsa\\statespace\\sarimax.py:978: UserWarning: Non-invertible starting MA parameters found. Using zeros as starting parameters.\n",
      "  warn('Non-invertible starting MA parameters found.'\n"
     ]
    },
    {
     "name": "stdout",
     "output_type": "stream",
     "text": [
      "AR: 5, MA: 4\n"
     ]
    },
    {
     "name": "stderr",
     "output_type": "stream",
     "text": [
      "c:\\Users\\Lenovo\\anaconda3\\Lib\\site-packages\\statsmodels\\base\\model.py:607: ConvergenceWarning: Maximum Likelihood optimization failed to converge. Check mle_retvals\n",
      "  warnings.warn(\"Maximum Likelihood optimization failed to \"\n",
      "c:\\Users\\Lenovo\\anaconda3\\Lib\\site-packages\\statsmodels\\tsa\\statespace\\sarimax.py:966: UserWarning: Non-stationary starting autoregressive parameters found. Using zeros as starting parameters.\n",
      "  warn('Non-stationary starting autoregressive parameters'\n",
      "c:\\Users\\Lenovo\\anaconda3\\Lib\\site-packages\\statsmodels\\tsa\\statespace\\sarimax.py:978: UserWarning: Non-invertible starting MA parameters found. Using zeros as starting parameters.\n",
      "  warn('Non-invertible starting MA parameters found.'\n"
     ]
    },
    {
     "name": "stdout",
     "output_type": "stream",
     "text": [
      "AR: 5, MA: 5\n"
     ]
    },
    {
     "name": "stderr",
     "output_type": "stream",
     "text": [
      "c:\\Users\\Lenovo\\anaconda3\\Lib\\site-packages\\statsmodels\\base\\model.py:607: ConvergenceWarning: Maximum Likelihood optimization failed to converge. Check mle_retvals\n",
      "  warnings.warn(\"Maximum Likelihood optimization failed to \"\n",
      "c:\\Users\\Lenovo\\anaconda3\\Lib\\site-packages\\statsmodels\\tsa\\statespace\\sarimax.py:966: UserWarning: Non-stationary starting autoregressive parameters found. Using zeros as starting parameters.\n",
      "  warn('Non-stationary starting autoregressive parameters'\n",
      "c:\\Users\\Lenovo\\anaconda3\\Lib\\site-packages\\statsmodels\\tsa\\statespace\\sarimax.py:978: UserWarning: Non-invertible starting MA parameters found. Using zeros as starting parameters.\n",
      "  warn('Non-invertible starting MA parameters found.'\n"
     ]
    },
    {
     "name": "stdout",
     "output_type": "stream",
     "text": [
      "AR: 5, MA: 6\n"
     ]
    },
    {
     "name": "stderr",
     "output_type": "stream",
     "text": [
      "c:\\Users\\Lenovo\\anaconda3\\Lib\\site-packages\\statsmodels\\base\\model.py:607: ConvergenceWarning: Maximum Likelihood optimization failed to converge. Check mle_retvals\n",
      "  warnings.warn(\"Maximum Likelihood optimization failed to \"\n"
     ]
    },
    {
     "name": "stdout",
     "output_type": "stream",
     "text": [
      "AR: 6, MA: 0\n",
      "AR: 6, MA: 1\n",
      "AR: 6, MA: 2\n",
      "AR: 6, MA: 3\n"
     ]
    },
    {
     "name": "stderr",
     "output_type": "stream",
     "text": [
      "c:\\Users\\Lenovo\\anaconda3\\Lib\\site-packages\\statsmodels\\base\\model.py:607: ConvergenceWarning: Maximum Likelihood optimization failed to converge. Check mle_retvals\n",
      "  warnings.warn(\"Maximum Likelihood optimization failed to \"\n"
     ]
    },
    {
     "name": "stdout",
     "output_type": "stream",
     "text": [
      "AR: 6, MA: 4\n"
     ]
    },
    {
     "name": "stderr",
     "output_type": "stream",
     "text": [
      "c:\\Users\\Lenovo\\anaconda3\\Lib\\site-packages\\statsmodels\\base\\model.py:607: ConvergenceWarning: Maximum Likelihood optimization failed to converge. Check mle_retvals\n",
      "  warnings.warn(\"Maximum Likelihood optimization failed to \"\n",
      "c:\\Users\\Lenovo\\anaconda3\\Lib\\site-packages\\statsmodels\\tsa\\statespace\\sarimax.py:978: UserWarning: Non-invertible starting MA parameters found. Using zeros as starting parameters.\n",
      "  warn('Non-invertible starting MA parameters found.'\n"
     ]
    },
    {
     "name": "stdout",
     "output_type": "stream",
     "text": [
      "AR: 6, MA: 5\n"
     ]
    },
    {
     "name": "stderr",
     "output_type": "stream",
     "text": [
      "c:\\Users\\Lenovo\\anaconda3\\Lib\\site-packages\\statsmodels\\base\\model.py:607: ConvergenceWarning: Maximum Likelihood optimization failed to converge. Check mle_retvals\n",
      "  warnings.warn(\"Maximum Likelihood optimization failed to \"\n",
      "c:\\Users\\Lenovo\\anaconda3\\Lib\\site-packages\\statsmodels\\tsa\\statespace\\sarimax.py:966: UserWarning: Non-stationary starting autoregressive parameters found. Using zeros as starting parameters.\n",
      "  warn('Non-stationary starting autoregressive parameters'\n",
      "c:\\Users\\Lenovo\\anaconda3\\Lib\\site-packages\\statsmodels\\tsa\\statespace\\sarimax.py:978: UserWarning: Non-invertible starting MA parameters found. Using zeros as starting parameters.\n",
      "  warn('Non-invertible starting MA parameters found.'\n"
     ]
    },
    {
     "name": "stdout",
     "output_type": "stream",
     "text": [
      "AR: 6, MA: 6\n"
     ]
    },
    {
     "name": "stderr",
     "output_type": "stream",
     "text": [
      "c:\\Users\\Lenovo\\anaconda3\\Lib\\site-packages\\statsmodels\\base\\model.py:607: ConvergenceWarning: Maximum Likelihood optimization failed to converge. Check mle_retvals\n",
      "  warnings.warn(\"Maximum Likelihood optimization failed to \"\n"
     ]
    }
   ],
   "source": [
    "# vamos a estimar varios modelos y  guardar el AIC BIC\n",
    "ic = {}\n",
    "for ar in range(7):\n",
    "    for ma in range(7):\n",
    "        print(f\"AR: {ar}, MA: {ma}\")\n",
    "        modelo = ARIMA(df_amazon['amazon_dif'], order=(ar, 0, ma))\n",
    "        resultado = modelo.fit()\n",
    "        ic[(ar, ma)] = [resultado.aic, resultado.bic]\n",
    " \n",
    "ic = pd.DataFrame(ic, index=[\"AIC\", \"BIC\"]).T\n",
    "ic.index = ic.index.set_names([\"AR\", \"MA\"])"
   ]
  },
  {
   "cell_type": "code",
   "execution_count": 47,
   "metadata": {},
   "outputs": [
    {
     "data": {
      "text/html": [
       "<div>\n",
       "<style scoped>\n",
       "    .dataframe tbody tr th:only-of-type {\n",
       "        vertical-align: middle;\n",
       "    }\n",
       "\n",
       "    .dataframe tbody tr th {\n",
       "        vertical-align: top;\n",
       "    }\n",
       "\n",
       "    .dataframe thead th {\n",
       "        text-align: right;\n",
       "    }\n",
       "</style>\n",
       "<table border=\"1\" class=\"dataframe\">\n",
       "  <thead>\n",
       "    <tr style=\"text-align: right;\">\n",
       "      <th></th>\n",
       "      <th></th>\n",
       "      <th>AIC</th>\n",
       "      <th>BIC</th>\n",
       "    </tr>\n",
       "    <tr>\n",
       "      <th>AR</th>\n",
       "      <th>MA</th>\n",
       "      <th></th>\n",
       "      <th></th>\n",
       "    </tr>\n",
       "  </thead>\n",
       "  <tbody>\n",
       "    <tr>\n",
       "      <th rowspan=\"7\" valign=\"top\">0</th>\n",
       "      <th>0</th>\n",
       "      <td>2391.896755</td>\n",
       "      <td>2402.238532</td>\n",
       "    </tr>\n",
       "    <tr>\n",
       "      <th>1</th>\n",
       "      <td>2383.568586</td>\n",
       "      <td>2399.081251</td>\n",
       "    </tr>\n",
       "    <tr>\n",
       "      <th>2</th>\n",
       "      <td>2381.083540</td>\n",
       "      <td>2401.767094</td>\n",
       "    </tr>\n",
       "    <tr>\n",
       "      <th>3</th>\n",
       "      <td>2381.400733</td>\n",
       "      <td>2407.255175</td>\n",
       "    </tr>\n",
       "    <tr>\n",
       "      <th>4</th>\n",
       "      <td>2378.268578</td>\n",
       "      <td>2409.293909</td>\n",
       "    </tr>\n",
       "    <tr>\n",
       "      <th>5</th>\n",
       "      <td>2380.228629</td>\n",
       "      <td>2416.424848</td>\n",
       "    </tr>\n",
       "    <tr>\n",
       "      <th>6</th>\n",
       "      <td>2376.970678</td>\n",
       "      <td>2418.337786</td>\n",
       "    </tr>\n",
       "    <tr>\n",
       "      <th rowspan=\"7\" valign=\"top\">1</th>\n",
       "      <th>0</th>\n",
       "      <td>2384.723520</td>\n",
       "      <td>2400.236185</td>\n",
       "    </tr>\n",
       "    <tr>\n",
       "      <th>1</th>\n",
       "      <td>2370.719104</td>\n",
       "      <td>2391.402658</td>\n",
       "    </tr>\n",
       "    <tr>\n",
       "      <th>2</th>\n",
       "      <td>2372.424256</td>\n",
       "      <td>2398.278698</td>\n",
       "    </tr>\n",
       "    <tr>\n",
       "      <th>3</th>\n",
       "      <td>2374.423985</td>\n",
       "      <td>2405.449316</td>\n",
       "    </tr>\n",
       "    <tr>\n",
       "      <th>4</th>\n",
       "      <td>2375.974110</td>\n",
       "      <td>2412.170330</td>\n",
       "    </tr>\n",
       "    <tr>\n",
       "      <th>5</th>\n",
       "      <td>2377.699804</td>\n",
       "      <td>2419.066912</td>\n",
       "    </tr>\n",
       "    <tr>\n",
       "      <th>6</th>\n",
       "      <td>2376.746380</td>\n",
       "      <td>2423.284376</td>\n",
       "    </tr>\n",
       "    <tr>\n",
       "      <th rowspan=\"7\" valign=\"top\">2</th>\n",
       "      <th>0</th>\n",
       "      <td>2382.564546</td>\n",
       "      <td>2403.248100</td>\n",
       "    </tr>\n",
       "    <tr>\n",
       "      <th>1</th>\n",
       "      <td>2372.425154</td>\n",
       "      <td>2398.279596</td>\n",
       "    </tr>\n",
       "    <tr>\n",
       "      <th>2</th>\n",
       "      <td>2370.748008</td>\n",
       "      <td>2401.773339</td>\n",
       "    </tr>\n",
       "    <tr>\n",
       "      <th>3</th>\n",
       "      <td>2371.163647</td>\n",
       "      <td>2407.359866</td>\n",
       "    </tr>\n",
       "    <tr>\n",
       "      <th>4</th>\n",
       "      <td>2372.359913</td>\n",
       "      <td>2413.727021</td>\n",
       "    </tr>\n",
       "    <tr>\n",
       "      <th>5</th>\n",
       "      <td>2374.217857</td>\n",
       "      <td>2420.755853</td>\n",
       "    </tr>\n",
       "    <tr>\n",
       "      <th>6</th>\n",
       "      <td>2375.972759</td>\n",
       "      <td>2427.681644</td>\n",
       "    </tr>\n",
       "    <tr>\n",
       "      <th rowspan=\"7\" valign=\"top\">3</th>\n",
       "      <th>0</th>\n",
       "      <td>2383.194967</td>\n",
       "      <td>2409.049409</td>\n",
       "    </tr>\n",
       "    <tr>\n",
       "      <th>1</th>\n",
       "      <td>2374.421792</td>\n",
       "      <td>2405.447123</td>\n",
       "    </tr>\n",
       "    <tr>\n",
       "      <th>2</th>\n",
       "      <td>2371.035777</td>\n",
       "      <td>2407.231997</td>\n",
       "    </tr>\n",
       "    <tr>\n",
       "      <th>3</th>\n",
       "      <td>2376.123211</td>\n",
       "      <td>2417.490319</td>\n",
       "    </tr>\n",
       "    <tr>\n",
       "      <th>4</th>\n",
       "      <td>2375.741697</td>\n",
       "      <td>2422.279694</td>\n",
       "    </tr>\n",
       "    <tr>\n",
       "      <th>5</th>\n",
       "      <td>2376.341073</td>\n",
       "      <td>2428.049958</td>\n",
       "    </tr>\n",
       "    <tr>\n",
       "      <th>6</th>\n",
       "      <td>2375.924611</td>\n",
       "      <td>2432.804384</td>\n",
       "    </tr>\n",
       "    <tr>\n",
       "      <th rowspan=\"7\" valign=\"top\">4</th>\n",
       "      <th>0</th>\n",
       "      <td>2380.417047</td>\n",
       "      <td>2411.442378</td>\n",
       "    </tr>\n",
       "    <tr>\n",
       "      <th>1</th>\n",
       "      <td>2375.937829</td>\n",
       "      <td>2412.134048</td>\n",
       "    </tr>\n",
       "    <tr>\n",
       "      <th>2</th>\n",
       "      <td>2372.271727</td>\n",
       "      <td>2413.638835</td>\n",
       "    </tr>\n",
       "    <tr>\n",
       "      <th>3</th>\n",
       "      <td>2378.253598</td>\n",
       "      <td>2424.791594</td>\n",
       "    </tr>\n",
       "    <tr>\n",
       "      <th>4</th>\n",
       "      <td>2375.727702</td>\n",
       "      <td>2427.436587</td>\n",
       "    </tr>\n",
       "    <tr>\n",
       "      <th>5</th>\n",
       "      <td>2376.367379</td>\n",
       "      <td>2433.247152</td>\n",
       "    </tr>\n",
       "    <tr>\n",
       "      <th>6</th>\n",
       "      <td>2377.029057</td>\n",
       "      <td>2439.079718</td>\n",
       "    </tr>\n",
       "    <tr>\n",
       "      <th rowspan=\"7\" valign=\"top\">5</th>\n",
       "      <th>0</th>\n",
       "      <td>2382.415993</td>\n",
       "      <td>2418.612212</td>\n",
       "    </tr>\n",
       "    <tr>\n",
       "      <th>1</th>\n",
       "      <td>2377.636683</td>\n",
       "      <td>2419.003790</td>\n",
       "    </tr>\n",
       "    <tr>\n",
       "      <th>2</th>\n",
       "      <td>2374.187362</td>\n",
       "      <td>2420.725358</td>\n",
       "    </tr>\n",
       "    <tr>\n",
       "      <th>3</th>\n",
       "      <td>2379.993426</td>\n",
       "      <td>2431.702310</td>\n",
       "    </tr>\n",
       "    <tr>\n",
       "      <th>4</th>\n",
       "      <td>2375.185989</td>\n",
       "      <td>2432.065762</td>\n",
       "    </tr>\n",
       "    <tr>\n",
       "      <th>5</th>\n",
       "      <td>2378.554978</td>\n",
       "      <td>2440.605640</td>\n",
       "    </tr>\n",
       "    <tr>\n",
       "      <th>6</th>\n",
       "      <td>2378.533696</td>\n",
       "      <td>2445.755246</td>\n",
       "    </tr>\n",
       "    <tr>\n",
       "      <th rowspan=\"7\" valign=\"top\">6</th>\n",
       "      <th>0</th>\n",
       "      <td>2380.759590</td>\n",
       "      <td>2422.126698</td>\n",
       "    </tr>\n",
       "    <tr>\n",
       "      <th>1</th>\n",
       "      <td>2376.897286</td>\n",
       "      <td>2423.435282</td>\n",
       "    </tr>\n",
       "    <tr>\n",
       "      <th>2</th>\n",
       "      <td>2378.891160</td>\n",
       "      <td>2430.600045</td>\n",
       "    </tr>\n",
       "    <tr>\n",
       "      <th>3</th>\n",
       "      <td>2376.195032</td>\n",
       "      <td>2433.074805</td>\n",
       "    </tr>\n",
       "    <tr>\n",
       "      <th>4</th>\n",
       "      <td>2377.588726</td>\n",
       "      <td>2439.639387</td>\n",
       "    </tr>\n",
       "    <tr>\n",
       "      <th>5</th>\n",
       "      <td>2381.565741</td>\n",
       "      <td>2448.787291</td>\n",
       "    </tr>\n",
       "    <tr>\n",
       "      <th>6</th>\n",
       "      <td>2380.747499</td>\n",
       "      <td>2453.139938</td>\n",
       "    </tr>\n",
       "  </tbody>\n",
       "</table>\n",
       "</div>"
      ],
      "text/plain": [
       "               AIC          BIC\n",
       "AR MA                          \n",
       "0  0   2391.896755  2402.238532\n",
       "   1   2383.568586  2399.081251\n",
       "   2   2381.083540  2401.767094\n",
       "   3   2381.400733  2407.255175\n",
       "   4   2378.268578  2409.293909\n",
       "   5   2380.228629  2416.424848\n",
       "   6   2376.970678  2418.337786\n",
       "1  0   2384.723520  2400.236185\n",
       "   1   2370.719104  2391.402658\n",
       "   2   2372.424256  2398.278698\n",
       "   3   2374.423985  2405.449316\n",
       "   4   2375.974110  2412.170330\n",
       "   5   2377.699804  2419.066912\n",
       "   6   2376.746380  2423.284376\n",
       "2  0   2382.564546  2403.248100\n",
       "   1   2372.425154  2398.279596\n",
       "   2   2370.748008  2401.773339\n",
       "   3   2371.163647  2407.359866\n",
       "   4   2372.359913  2413.727021\n",
       "   5   2374.217857  2420.755853\n",
       "   6   2375.972759  2427.681644\n",
       "3  0   2383.194967  2409.049409\n",
       "   1   2374.421792  2405.447123\n",
       "   2   2371.035777  2407.231997\n",
       "   3   2376.123211  2417.490319\n",
       "   4   2375.741697  2422.279694\n",
       "   5   2376.341073  2428.049958\n",
       "   6   2375.924611  2432.804384\n",
       "4  0   2380.417047  2411.442378\n",
       "   1   2375.937829  2412.134048\n",
       "   2   2372.271727  2413.638835\n",
       "   3   2378.253598  2424.791594\n",
       "   4   2375.727702  2427.436587\n",
       "   5   2376.367379  2433.247152\n",
       "   6   2377.029057  2439.079718\n",
       "5  0   2382.415993  2418.612212\n",
       "   1   2377.636683  2419.003790\n",
       "   2   2374.187362  2420.725358\n",
       "   3   2379.993426  2431.702310\n",
       "   4   2375.185989  2432.065762\n",
       "   5   2378.554978  2440.605640\n",
       "   6   2378.533696  2445.755246\n",
       "6  0   2380.759590  2422.126698\n",
       "   1   2376.897286  2423.435282\n",
       "   2   2378.891160  2430.600045\n",
       "   3   2376.195032  2433.074805\n",
       "   4   2377.588726  2439.639387\n",
       "   5   2381.565741  2448.787291\n",
       "   6   2380.747499  2453.139938"
      ]
     },
     "execution_count": 47,
     "metadata": {},
     "output_type": "execute_result"
    }
   ],
   "source": [
    "ic"
   ]
  },
  {
   "cell_type": "code",
   "execution_count": 49,
   "metadata": {},
   "outputs": [
    {
     "data": {
      "text/html": [
       "<div>\n",
       "<style scoped>\n",
       "    .dataframe tbody tr th:only-of-type {\n",
       "        vertical-align: middle;\n",
       "    }\n",
       "\n",
       "    .dataframe tbody tr th {\n",
       "        vertical-align: top;\n",
       "    }\n",
       "\n",
       "    .dataframe thead th {\n",
       "        text-align: right;\n",
       "    }\n",
       "</style>\n",
       "<table border=\"1\" class=\"dataframe\">\n",
       "  <thead>\n",
       "    <tr style=\"text-align: right;\">\n",
       "      <th></th>\n",
       "      <th></th>\n",
       "      <th>AIC</th>\n",
       "      <th>BIC</th>\n",
       "    </tr>\n",
       "    <tr>\n",
       "      <th>AR</th>\n",
       "      <th>MA</th>\n",
       "      <th></th>\n",
       "      <th></th>\n",
       "    </tr>\n",
       "  </thead>\n",
       "  <tbody>\n",
       "    <tr>\n",
       "      <th>1</th>\n",
       "      <th>1</th>\n",
       "      <td>2370.719104</td>\n",
       "      <td>2391.402658</td>\n",
       "    </tr>\n",
       "    <tr>\n",
       "      <th>2</th>\n",
       "      <th>2</th>\n",
       "      <td>2370.748008</td>\n",
       "      <td>2401.773339</td>\n",
       "    </tr>\n",
       "    <tr>\n",
       "      <th>3</th>\n",
       "      <th>2</th>\n",
       "      <td>2371.035777</td>\n",
       "      <td>2407.231997</td>\n",
       "    </tr>\n",
       "    <tr>\n",
       "      <th>2</th>\n",
       "      <th>3</th>\n",
       "      <td>2371.163647</td>\n",
       "      <td>2407.359866</td>\n",
       "    </tr>\n",
       "    <tr>\n",
       "      <th>4</th>\n",
       "      <th>2</th>\n",
       "      <td>2372.271727</td>\n",
       "      <td>2413.638835</td>\n",
       "    </tr>\n",
       "  </tbody>\n",
       "</table>\n",
       "</div>"
      ],
      "text/plain": [
       "               AIC          BIC\n",
       "AR MA                          \n",
       "1  1   2370.719104  2391.402658\n",
       "2  2   2370.748008  2401.773339\n",
       "3  2   2371.035777  2407.231997\n",
       "2  3   2371.163647  2407.359866\n",
       "4  2   2372.271727  2413.638835"
      ]
     },
     "execution_count": 49,
     "metadata": {},
     "output_type": "execute_result"
    }
   ],
   "source": [
    "ic.sort_values('AIC').head()"
   ]
  },
  {
   "cell_type": "markdown",
   "metadata": {},
   "source": [
    "ARIMA (p, I(d) , q)\n",
    "* 1ras diferencias son un ARMA(1,1)=ARIMA(1,0,1)\n",
    "* amazon ARIMA(1,1,1)\n",
    "\n",
    "Amazon tiene el mismo AR y el mismo MA que las primeras diferencias"
   ]
  },
  {
   "cell_type": "code",
   "execution_count": 50,
   "metadata": {},
   "outputs": [
    {
     "data": {
      "text/html": [
       "<style>#sk-container-id-1 {color: black;}#sk-container-id-1 pre{padding: 0;}#sk-container-id-1 div.sk-toggleable {background-color: white;}#sk-container-id-1 label.sk-toggleable__label {cursor: pointer;display: block;width: 100%;margin-bottom: 0;padding: 0.3em;box-sizing: border-box;text-align: center;}#sk-container-id-1 label.sk-toggleable__label-arrow:before {content: \"▸\";float: left;margin-right: 0.25em;color: #696969;}#sk-container-id-1 label.sk-toggleable__label-arrow:hover:before {color: black;}#sk-container-id-1 div.sk-estimator:hover label.sk-toggleable__label-arrow:before {color: black;}#sk-container-id-1 div.sk-toggleable__content {max-height: 0;max-width: 0;overflow: hidden;text-align: left;background-color: #f0f8ff;}#sk-container-id-1 div.sk-toggleable__content pre {margin: 0.2em;color: black;border-radius: 0.25em;background-color: #f0f8ff;}#sk-container-id-1 input.sk-toggleable__control:checked~div.sk-toggleable__content {max-height: 200px;max-width: 100%;overflow: auto;}#sk-container-id-1 input.sk-toggleable__control:checked~label.sk-toggleable__label-arrow:before {content: \"▾\";}#sk-container-id-1 div.sk-estimator input.sk-toggleable__control:checked~label.sk-toggleable__label {background-color: #d4ebff;}#sk-container-id-1 div.sk-label input.sk-toggleable__control:checked~label.sk-toggleable__label {background-color: #d4ebff;}#sk-container-id-1 input.sk-hidden--visually {border: 0;clip: rect(1px 1px 1px 1px);clip: rect(1px, 1px, 1px, 1px);height: 1px;margin: -1px;overflow: hidden;padding: 0;position: absolute;width: 1px;}#sk-container-id-1 div.sk-estimator {font-family: monospace;background-color: #f0f8ff;border: 1px dotted black;border-radius: 0.25em;box-sizing: border-box;margin-bottom: 0.5em;}#sk-container-id-1 div.sk-estimator:hover {background-color: #d4ebff;}#sk-container-id-1 div.sk-parallel-item::after {content: \"\";width: 100%;border-bottom: 1px solid gray;flex-grow: 1;}#sk-container-id-1 div.sk-label:hover label.sk-toggleable__label {background-color: #d4ebff;}#sk-container-id-1 div.sk-serial::before {content: \"\";position: absolute;border-left: 1px solid gray;box-sizing: border-box;top: 0;bottom: 0;left: 50%;z-index: 0;}#sk-container-id-1 div.sk-serial {display: flex;flex-direction: column;align-items: center;background-color: white;padding-right: 0.2em;padding-left: 0.2em;position: relative;}#sk-container-id-1 div.sk-item {position: relative;z-index: 1;}#sk-container-id-1 div.sk-parallel {display: flex;align-items: stretch;justify-content: center;background-color: white;position: relative;}#sk-container-id-1 div.sk-item::before, #sk-container-id-1 div.sk-parallel-item::before {content: \"\";position: absolute;border-left: 1px solid gray;box-sizing: border-box;top: 0;bottom: 0;left: 50%;z-index: -1;}#sk-container-id-1 div.sk-parallel-item {display: flex;flex-direction: column;z-index: 1;position: relative;background-color: white;}#sk-container-id-1 div.sk-parallel-item:first-child::after {align-self: flex-end;width: 50%;}#sk-container-id-1 div.sk-parallel-item:last-child::after {align-self: flex-start;width: 50%;}#sk-container-id-1 div.sk-parallel-item:only-child::after {width: 0;}#sk-container-id-1 div.sk-dashed-wrapped {border: 1px dashed gray;margin: 0 0.4em 0.5em 0.4em;box-sizing: border-box;padding-bottom: 0.4em;background-color: white;}#sk-container-id-1 div.sk-label label {font-family: monospace;font-weight: bold;display: inline-block;line-height: 1.2em;}#sk-container-id-1 div.sk-label-container {text-align: center;}#sk-container-id-1 div.sk-container {/* jupyter's `normalize.less` sets `[hidden] { display: none; }` but bootstrap.min.css set `[hidden] { display: none !important; }` so we also need the `!important` here to be able to override the default hidden behavior on the sphinx rendered scikit-learn.org. See: https://github.com/scikit-learn/scikit-learn/issues/21755 */display: inline-block !important;position: relative;}#sk-container-id-1 div.sk-text-repr-fallback {display: none;}</style><div id=\"sk-container-id-1\" class=\"sk-top-container\"><div class=\"sk-text-repr-fallback\"><pre> ARIMA(1,0,1)(0,0,0)[0] intercept</pre><b>In a Jupyter environment, please rerun this cell to show the HTML representation or trust the notebook. <br />On GitHub, the HTML representation is unable to render, please try loading this page with nbviewer.org.</b></div><div class=\"sk-container\" hidden><div class=\"sk-item\"><div class=\"sk-estimator sk-toggleable\"><input class=\"sk-toggleable__control sk-hidden--visually\" id=\"sk-estimator-id-1\" type=\"checkbox\" checked><label for=\"sk-estimator-id-1\" class=\"sk-toggleable__label sk-toggleable__label-arrow\">ARIMA</label><div class=\"sk-toggleable__content\"><pre> ARIMA(1,0,1)(0,0,0)[0] intercept</pre></div></div></div></div></div>"
      ],
      "text/plain": [
       "ARIMA(order=(1, 0, 1), scoring_args={}, suppress_warnings=True)"
      ]
     },
     "execution_count": 50,
     "metadata": {},
     "output_type": "execute_result"
    }
   ],
   "source": [
    "## 1ras diferencias\n",
    "pm.auto_arima(df_amazon['amazon_dif'].dropna(),\n",
    "              start_p=1, max_p=7,\n",
    "              start_q=1, max_q=7,\n",
    "              seasonal=False\n",
    "              )"
   ]
  },
  {
   "cell_type": "code",
   "execution_count": 52,
   "metadata": {},
   "outputs": [
    {
     "data": {
      "text/html": [
       "<style>#sk-container-id-3 {color: black;}#sk-container-id-3 pre{padding: 0;}#sk-container-id-3 div.sk-toggleable {background-color: white;}#sk-container-id-3 label.sk-toggleable__label {cursor: pointer;display: block;width: 100%;margin-bottom: 0;padding: 0.3em;box-sizing: border-box;text-align: center;}#sk-container-id-3 label.sk-toggleable__label-arrow:before {content: \"▸\";float: left;margin-right: 0.25em;color: #696969;}#sk-container-id-3 label.sk-toggleable__label-arrow:hover:before {color: black;}#sk-container-id-3 div.sk-estimator:hover label.sk-toggleable__label-arrow:before {color: black;}#sk-container-id-3 div.sk-toggleable__content {max-height: 0;max-width: 0;overflow: hidden;text-align: left;background-color: #f0f8ff;}#sk-container-id-3 div.sk-toggleable__content pre {margin: 0.2em;color: black;border-radius: 0.25em;background-color: #f0f8ff;}#sk-container-id-3 input.sk-toggleable__control:checked~div.sk-toggleable__content {max-height: 200px;max-width: 100%;overflow: auto;}#sk-container-id-3 input.sk-toggleable__control:checked~label.sk-toggleable__label-arrow:before {content: \"▾\";}#sk-container-id-3 div.sk-estimator input.sk-toggleable__control:checked~label.sk-toggleable__label {background-color: #d4ebff;}#sk-container-id-3 div.sk-label input.sk-toggleable__control:checked~label.sk-toggleable__label {background-color: #d4ebff;}#sk-container-id-3 input.sk-hidden--visually {border: 0;clip: rect(1px 1px 1px 1px);clip: rect(1px, 1px, 1px, 1px);height: 1px;margin: -1px;overflow: hidden;padding: 0;position: absolute;width: 1px;}#sk-container-id-3 div.sk-estimator {font-family: monospace;background-color: #f0f8ff;border: 1px dotted black;border-radius: 0.25em;box-sizing: border-box;margin-bottom: 0.5em;}#sk-container-id-3 div.sk-estimator:hover {background-color: #d4ebff;}#sk-container-id-3 div.sk-parallel-item::after {content: \"\";width: 100%;border-bottom: 1px solid gray;flex-grow: 1;}#sk-container-id-3 div.sk-label:hover label.sk-toggleable__label {background-color: #d4ebff;}#sk-container-id-3 div.sk-serial::before {content: \"\";position: absolute;border-left: 1px solid gray;box-sizing: border-box;top: 0;bottom: 0;left: 50%;z-index: 0;}#sk-container-id-3 div.sk-serial {display: flex;flex-direction: column;align-items: center;background-color: white;padding-right: 0.2em;padding-left: 0.2em;position: relative;}#sk-container-id-3 div.sk-item {position: relative;z-index: 1;}#sk-container-id-3 div.sk-parallel {display: flex;align-items: stretch;justify-content: center;background-color: white;position: relative;}#sk-container-id-3 div.sk-item::before, #sk-container-id-3 div.sk-parallel-item::before {content: \"\";position: absolute;border-left: 1px solid gray;box-sizing: border-box;top: 0;bottom: 0;left: 50%;z-index: -1;}#sk-container-id-3 div.sk-parallel-item {display: flex;flex-direction: column;z-index: 1;position: relative;background-color: white;}#sk-container-id-3 div.sk-parallel-item:first-child::after {align-self: flex-end;width: 50%;}#sk-container-id-3 div.sk-parallel-item:last-child::after {align-self: flex-start;width: 50%;}#sk-container-id-3 div.sk-parallel-item:only-child::after {width: 0;}#sk-container-id-3 div.sk-dashed-wrapped {border: 1px dashed gray;margin: 0 0.4em 0.5em 0.4em;box-sizing: border-box;padding-bottom: 0.4em;background-color: white;}#sk-container-id-3 div.sk-label label {font-family: monospace;font-weight: bold;display: inline-block;line-height: 1.2em;}#sk-container-id-3 div.sk-label-container {text-align: center;}#sk-container-id-3 div.sk-container {/* jupyter's `normalize.less` sets `[hidden] { display: none; }` but bootstrap.min.css set `[hidden] { display: none !important; }` so we also need the `!important` here to be able to override the default hidden behavior on the sphinx rendered scikit-learn.org. See: https://github.com/scikit-learn/scikit-learn/issues/21755 */display: inline-block !important;position: relative;}#sk-container-id-3 div.sk-text-repr-fallback {display: none;}</style><div id=\"sk-container-id-3\" class=\"sk-top-container\"><div class=\"sk-text-repr-fallback\"><pre> ARIMA(1,1,1)(0,0,0)[0] intercept</pre><b>In a Jupyter environment, please rerun this cell to show the HTML representation or trust the notebook. <br />On GitHub, the HTML representation is unable to render, please try loading this page with nbviewer.org.</b></div><div class=\"sk-container\" hidden><div class=\"sk-item\"><div class=\"sk-estimator sk-toggleable\"><input class=\"sk-toggleable__control sk-hidden--visually\" id=\"sk-estimator-id-3\" type=\"checkbox\" checked><label for=\"sk-estimator-id-3\" class=\"sk-toggleable__label sk-toggleable__label-arrow\">ARIMA</label><div class=\"sk-toggleable__content\"><pre> ARIMA(1,1,1)(0,0,0)[0] intercept</pre></div></div></div></div></div>"
      ],
      "text/plain": [
       "ARIMA(order=(1, 1, 1), scoring_args={}, suppress_warnings=True)"
      ]
     },
     "execution_count": 52,
     "metadata": {},
     "output_type": "execute_result"
    }
   ],
   "source": [
    "## amazon\n",
    "pm.auto_arima(df_amazon['amazon'],\n",
    "              start_p=1, max_p=7,\n",
    "              start_q=1, max_q=7,\n",
    "              ic='bic',\n",
    "              seasonal=False\n",
    "              )"
   ]
  },
  {
   "cell_type": "code",
   "execution_count": 53,
   "metadata": {},
   "outputs": [
    {
     "name": "stdout",
     "output_type": "stream",
     "text": [
      "                               SARIMAX Results                                \n",
      "==============================================================================\n",
      "Dep. Variable:                 amazon   No. Observations:                 1301\n",
      "Model:                 ARIMA(1, 1, 1)   Log Likelihood               -1183.529\n",
      "Date:                Fri, 20 Oct 2023   AIC                           2373.058\n",
      "Time:                        16:22:42   BIC                           2388.569\n",
      "Sample:                    01-02-2015   HQIC                          2378.878\n",
      "                         - 12-27-2019                                         \n",
      "Covariance Type:                  opg                                         \n",
      "==============================================================================\n",
      "                 coef    std err          z      P>|z|      [0.025      0.975]\n",
      "------------------------------------------------------------------------------\n",
      "ar.L1          0.7500      0.071     10.517      0.000       0.610       0.890\n",
      "ma.L1         -0.8375      0.059    -14.284      0.000      -0.952      -0.723\n",
      "sigma2         0.3616      0.008     43.599      0.000       0.345       0.378\n",
      "===================================================================================\n",
      "Ljung-Box (L1) (Q):                   0.18   Jarque-Bera (JB):               978.97\n",
      "Prob(Q):                              0.67   Prob(JB):                         0.00\n",
      "Heteroskedasticity (H):               2.33   Skew:                            -0.36\n",
      "Prob(H) (two-sided):                  0.00   Kurtosis:                         7.19\n",
      "===================================================================================\n",
      "\n",
      "Warnings:\n",
      "[1] Covariance matrix calculated using the outer product of gradients (complex-step).\n"
     ]
    }
   ],
   "source": [
    "## modelo ARIMA de AMAZON\n",
    "model=ARIMA(df_amazon['amazon'], order=(1,1,1))\n",
    "results=model.fit()\n",
    "print(results.summary())"
   ]
  },
  {
   "cell_type": "code",
   "execution_count": 54,
   "metadata": {},
   "outputs": [],
   "source": [
    "## pronosticar \n",
    "\n",
    "df_amazon['pronostico']=results.predict()"
   ]
  },
  {
   "cell_type": "code",
   "execution_count": 55,
   "metadata": {},
   "outputs": [
    {
     "data": {
      "text/html": [
       "<div>\n",
       "<style scoped>\n",
       "    .dataframe tbody tr th:only-of-type {\n",
       "        vertical-align: middle;\n",
       "    }\n",
       "\n",
       "    .dataframe tbody tr th {\n",
       "        vertical-align: top;\n",
       "    }\n",
       "\n",
       "    .dataframe thead th {\n",
       "        text-align: right;\n",
       "    }\n",
       "</style>\n",
       "<table border=\"1\" class=\"dataframe\">\n",
       "  <thead>\n",
       "    <tr style=\"text-align: right;\">\n",
       "      <th></th>\n",
       "      <th>amazon</th>\n",
       "      <th>amazon_dif</th>\n",
       "      <th>pronostico</th>\n",
       "    </tr>\n",
       "    <tr>\n",
       "      <th>fecha</th>\n",
       "      <th></th>\n",
       "      <th></th>\n",
       "      <th></th>\n",
       "    </tr>\n",
       "  </thead>\n",
       "  <tbody>\n",
       "    <tr>\n",
       "      <th>2015-01-02</th>\n",
       "      <td>24.573591</td>\n",
       "      <td>NaN</td>\n",
       "      <td>0.000000</td>\n",
       "    </tr>\n",
       "    <tr>\n",
       "      <th>2015-01-05</th>\n",
       "      <td>23.830631</td>\n",
       "      <td>-0.742960</td>\n",
       "      <td>24.573591</td>\n",
       "    </tr>\n",
       "    <tr>\n",
       "      <th>2015-01-06</th>\n",
       "      <td>24.070295</td>\n",
       "      <td>0.239664</td>\n",
       "      <td>23.884899</td>\n",
       "    </tr>\n",
       "    <tr>\n",
       "      <th>2015-01-07</th>\n",
       "      <td>24.453760</td>\n",
       "      <td>0.383465</td>\n",
       "      <td>24.096638</td>\n",
       "    </tr>\n",
       "    <tr>\n",
       "      <th>2015-01-08</th>\n",
       "      <td>24.301968</td>\n",
       "      <td>-0.151793</td>\n",
       "      <td>24.444772</td>\n",
       "    </tr>\n",
       "    <tr>\n",
       "      <th>...</th>\n",
       "      <td>...</td>\n",
       "      <td>...</td>\n",
       "      <td>...</td>\n",
       "    </tr>\n",
       "    <tr>\n",
       "      <th>2019-12-23</th>\n",
       "      <td>52.589653</td>\n",
       "      <td>-1.539211</td>\n",
       "      <td>53.983792</td>\n",
       "    </tr>\n",
       "    <tr>\n",
       "      <th>2019-12-24</th>\n",
       "      <td>52.599163</td>\n",
       "      <td>0.009510</td>\n",
       "      <td>52.602725</td>\n",
       "    </tr>\n",
       "    <tr>\n",
       "      <th>2019-12-25</th>\n",
       "      <td>52.599163</td>\n",
       "      <td>0.000000</td>\n",
       "      <td>52.609279</td>\n",
       "    </tr>\n",
       "    <tr>\n",
       "      <th>2019-12-26</th>\n",
       "      <td>52.561153</td>\n",
       "      <td>-0.038010</td>\n",
       "      <td>52.607635</td>\n",
       "    </tr>\n",
       "    <tr>\n",
       "      <th>2019-12-27</th>\n",
       "      <td>52.865196</td>\n",
       "      <td>0.304043</td>\n",
       "      <td>52.571571</td>\n",
       "    </tr>\n",
       "  </tbody>\n",
       "</table>\n",
       "<p>1301 rows × 3 columns</p>\n",
       "</div>"
      ],
      "text/plain": [
       "               amazon  amazon_dif  pronostico\n",
       "fecha                                        \n",
       "2015-01-02  24.573591         NaN    0.000000\n",
       "2015-01-05  23.830631   -0.742960   24.573591\n",
       "2015-01-06  24.070295    0.239664   23.884899\n",
       "2015-01-07  24.453760    0.383465   24.096638\n",
       "2015-01-08  24.301968   -0.151793   24.444772\n",
       "...               ...         ...         ...\n",
       "2019-12-23  52.589653   -1.539211   53.983792\n",
       "2019-12-24  52.599163    0.009510   52.602725\n",
       "2019-12-25  52.599163    0.000000   52.609279\n",
       "2019-12-26  52.561153   -0.038010   52.607635\n",
       "2019-12-27  52.865196    0.304043   52.571571\n",
       "\n",
       "[1301 rows x 3 columns]"
      ]
     },
     "execution_count": 55,
     "metadata": {},
     "output_type": "execute_result"
    }
   ],
   "source": [
    "df_amazon"
   ]
  },
  {
   "cell_type": "code",
   "execution_count": 56,
   "metadata": {},
   "outputs": [],
   "source": [
    "## asignar el valor inicial de la serie al pronostico\n",
    "\n",
    "df_amazon['pronostico'][0]=df_amazon['amazon'][0]"
   ]
  },
  {
   "cell_type": "code",
   "execution_count": 60,
   "metadata": {},
   "outputs": [
    {
     "data": {
      "text/plain": [
       "<matplotlib.legend.Legend at 0x24136692550>"
      ]
     },
     "execution_count": 60,
     "metadata": {},
     "output_type": "execute_result"
    },
    {
     "data": {
      "image/png": "[encoded data removed]",
      "text/plain": [
       "<Figure size 640x480 with 1 Axes>"
      ]
     },
     "metadata": {},
     "output_type": "display_data"
    }
   ],
   "source": [
    "df_amazon['amazon'].plot(label='amazon')\n",
    "df_amazon['pronostico'].plot(label='pronostico arima')\n",
    "plt.legend()\n"
   ]
  },
  {
   "cell_type": "code",
   "execution_count": 61,
   "metadata": {},
   "outputs": [
    {
     "data": {
      "text/plain": [
       "2019-12-30    52.847340\n",
       "2019-12-31    52.833947\n",
       "2020-01-01    52.823902\n",
       "2020-01-02    52.816367\n",
       "2020-01-03    52.810716\n",
       "2020-01-06    52.806478\n",
       "2020-01-07    52.803299\n",
       "2020-01-08    52.800914\n",
       "2020-01-09    52.799126\n",
       "2020-01-10    52.797785\n",
       "2020-01-13    52.796778\n",
       "2020-01-14    52.796024\n",
       "2020-01-15    52.795458\n",
       "2020-01-16    52.795033\n",
       "2020-01-17    52.794715\n",
       "2020-01-20    52.794476\n",
       "2020-01-21    52.794297\n",
       "2020-01-22    52.794163\n",
       "2020-01-23    52.794062\n",
       "2020-01-24    52.793986\n",
       "2020-01-27    52.793930\n",
       "2020-01-28    52.793887\n",
       "Freq: B, Name: predicted_mean, dtype: float64"
      ]
     },
     "execution_count": 61,
     "metadata": {},
     "output_type": "execute_result"
    }
   ],
   "source": [
    "#predecir futuro\n",
    "\n",
    "results.predict(start='2019-12-28', end='2020-01-28')"
   ]
  },
  {
   "cell_type": "code",
   "execution_count": 68,
   "metadata": {},
   "outputs": [
    {
     "data": {
      "image/png": "[encoded data removed]",
      "text/plain": [
       "<Figure size 640x480 with 1 Axes>"
      ]
     },
     "metadata": {},
     "output_type": "display_data"
    }
   ],
   "source": [
    "plot_predict(results, start='2019-12-28',end='2021-01-05')\n",
    "df_amazon['amazon'].plot()\n",
    "plt.ylim(47,56)\n",
    "plt.xlim('2019-06-01','2021-01-05');"
   ]
  },
  {
   "cell_type": "markdown",
   "metadata": {},
   "source": [
    "Los modelos ARIMA son modelo de pronostico a corto plazo. Conforme mas se pronostica a futuro el intervalo de confianza se vuelve mas grande , es decir, entre mas se pronostique a futuro el modelo se va a equivocar mas.\\ Tambien a partir de cierto periodo el modelo ARIMA pronostica una constante, esto es porque el modelo no puede ver ese futuro.\\\n",
    "Por eso es que decimos que los modelos ARIMA son modelos para pronosticos de corto plazo.En general si tenemos un ARIMA (2,1,1) se considera que el modelo puede hacer un buen pronostico de dos periodos, si tenemos una ARIMA (3,0,1) se considera que se hace un buen pronostico de 3 periodos, si tenemos una ARIMA (1,1,3)se considera que se hace un buen pronostico de 3 periodos."
   ]
  },
  {
   "cell_type": "code",
   "execution_count": 74,
   "metadata": {},
   "outputs": [
    {
     "data": {
      "text/plain": [
       "2019-12-30    52.84734\n",
       "Freq: B, dtype: float64"
      ]
     },
     "execution_count": 74,
     "metadata": {},
     "output_type": "execute_result"
    }
   ],
   "source": [
    "results.predict(start='2019-12-28',end='2019-12-30')"
   ]
  },
  {
   "cell_type": "code",
   "execution_count": 70,
   "metadata": {},
   "outputs": [
    {
     "data": {
      "text/plain": [
       "fecha     2019-12-30 00:00:00\n",
       "amazon              51.478008\n",
       "Name: 1254, dtype: object"
      ]
     },
     "execution_count": 70,
     "metadata": {},
     "output_type": "execute_result"
    }
   ],
   "source": [
    "ultima_obs"
   ]
  },
  {
   "cell_type": "code",
   "execution_count": null,
   "metadata": {},
   "outputs": [],
   "source": []
  }
 ],
 "metadata": {
  "kernelspec": {
   "display_name": "base",
   "language": "python",
   "name": "python3"
  },
  "language_info": {
   "codemirror_mode": {
    "name": "ipython",
    "version": 3
   },
   "file_extension": ".py",
   "mimetype": "text/x-python",
   "name": "python",
   "nbconvert_exporter": "python",
   "pygments_lexer": "ipython3",
   "version": "3.11.4"
  }
 },
 "nbformat": 4,
 "nbformat_minor": 2
}
