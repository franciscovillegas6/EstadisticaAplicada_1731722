{
 "cells": [
  {
   "cell_type": "markdown",
   "id": "d5ecd489-845b-4b65-9fa4-215e0130b216",
   "metadata": {},
   "source": [
    "1. Crea una lista con los nombres de pila de los integrantes de tu familia, la lista se llamara mi_familia"
   ]
  },
  {
   "cell_type": "markdown",
   "id": "3a8e803f",
   "metadata": {},
   "source": [
    "## Francisco Humberto Villegas Reyna 1731722\n",
    "## Estadistica Aplicada Grupo43"
   ]
  },
  {
   "cell_type": "code",
   "execution_count": 25,
   "id": "fbb59900-828b-4e32-a25d-d2fd0c703fe9",
   "metadata": {},
   "outputs": [],
   "source": [
    "#respuesta\n",
    "mi_familia = ['Francisco','Hilaria','Fanny','Humberto']"
   ]
  },
  {
   "cell_type": "markdown",
   "id": "2d37233b-9475-4157-9240-63aa5f82cc33",
   "metadata": {},
   "source": [
    "2. Crea una variable float que se llame mi_edad con tu edad \\\n",
    "Nota: las variables float contienen decimales "
   ]
  },
  {
   "cell_type": "code",
   "execution_count": 26,
   "id": "b984f18b-109c-4938-8340-25acc322e18b",
   "metadata": {},
   "outputs": [],
   "source": [
    "#respuesta\n",
    "mi_edad = 23.1"
   ]
  },
  {
   "cell_type": "code",
   "execution_count": 27,
   "id": "36332559-019c-4b32-ac1e-4d70e7f205f2",
   "metadata": {},
   "outputs": [
    {
     "data": {
      "text/plain": [
       "float"
      ]
     },
     "execution_count": 27,
     "metadata": {},
     "output_type": "execute_result"
    }
   ],
   "source": [
    "#al ejecutar el comando de abajo debe resultarte float\n",
    "type(mi_edad)"
   ]
  },
  {
   "cell_type": "markdown",
   "id": "31fe34c2-a22d-4cd3-8513-10636f9f321c",
   "metadata": {},
   "source": [
    "3. Convierte la variable mi_edad a entero (int) y guardalo en mi_edad "
   ]
  },
  {
   "cell_type": "code",
   "execution_count": 31,
   "id": "3ff48778-6d4a-4328-8fbe-5c036a9b29b3",
   "metadata": {},
   "outputs": [],
   "source": [
    "#respuesta\n",
    "mi_edad=int(mi_edad)"
   ]
  },
  {
   "cell_type": "code",
   "execution_count": 32,
   "id": "442ebc5b-cc8c-4c64-8c15-2e2623721e4e",
   "metadata": {},
   "outputs": [
    {
     "data": {
      "text/plain": [
       "int"
      ]
     },
     "execution_count": 32,
     "metadata": {},
     "output_type": "execute_result"
    }
   ],
   "source": [
    "#al ejecutar el comando de abajo debe resultarte int\n",
    "type(mi_edad)"
   ]
  },
  {
   "cell_type": "markdown",
   "id": "9057e59d-28cc-4885-9d3f-b8925ccd000a",
   "metadata": {},
   "source": [
    "4. Con el comando len(objeto) muestra cuántos integrantes tiene tu familia"
   ]
  },
  {
   "cell_type": "code",
   "execution_count": 33,
   "id": "3e62392c-2cee-4323-8e6a-fa271281f434",
   "metadata": {},
   "outputs": [
    {
     "data": {
      "text/plain": [
       "4"
      ]
     },
     "execution_count": 33,
     "metadata": {},
     "output_type": "execute_result"
    }
   ],
   "source": [
    "#respuesta\n",
    "len(mi_familia)"
   ]
  },
  {
   "cell_type": "markdown",
   "id": "b7c110fb-968d-48ed-ba68-7c235c94a35d",
   "metadata": {},
   "source": [
    "5. Utiliza print para que se imprima en pantalla tu edad "
   ]
  },
  {
   "cell_type": "markdown",
   "id": "5f9a3930-9df6-4e79-8175-31f15d692588",
   "metadata": {},
   "source": [
    "Ejemplo, yo (el profe) tengo 5 perros de mascotas y voy a imprimirlo en pantalla "
   ]
  },
  {
   "cell_type": "code",
   "execution_count": 37,
   "id": "59be38ed-2c19-4894-b2f4-2eb7cb121b37",
   "metadata": {},
   "outputs": [],
   "source": [
    "num_mascotas = int(1)\n",
    "#print('yo tengo', num_mascotas, 'perros en casa')\n"
   ]
  },
  {
   "cell_type": "code",
   "execution_count": 36,
   "id": "0560aa51-9c82-40d9-a6de-e12a1e82478d",
   "metadata": {},
   "outputs": [
    {
     "name": "stdout",
     "output_type": "stream",
     "text": [
      "Soy Francisco y mi edad es  23 años\n"
     ]
    }
   ],
   "source": [
    "## tu respuesta para mostrar tu edad\n",
    "## utiliza la variable mi_edad creada anteriormente\n",
    "\n",
    "print('Soy Francisco y mi edad es ', mi_edad, 'años')\n",
    "\n"
   ]
  },
  {
   "cell_type": "markdown",
   "id": "dcc51ac7-8eba-4b87-a57b-1ffa1c5d1f5d",
   "metadata": {},
   "source": [
    "6. Utiliza print para mostrar cuantos integrantes tiene tu familia \\\n",
    "Ahora usa print(f'texto {objeto}'). Mira el ejemplo"
   ]
  },
  {
   "cell_type": "code",
   "execution_count": 11,
   "id": "31bc7411-ff72-4913-8730-cd690858a9b4",
   "metadata": {},
   "outputs": [
    {
     "name": "stdout",
     "output_type": "stream",
     "text": [
      "El profe tiene 5 perros en su casa\n"
     ]
    }
   ],
   "source": [
    "print(f'El profe tiene {num_mascotas} perros en su casa')"
   ]
  },
  {
   "cell_type": "code",
   "execution_count": 38,
   "id": "b6a30927-3101-47c0-bbbc-b9c4a4b27b17",
   "metadata": {},
   "outputs": [
    {
     "name": "stdout",
     "output_type": "stream",
     "text": [
      "Yo,francisco tengo una familia de 4 personas\n"
     ]
    }
   ],
   "source": [
    "## tu respuesta \n",
    "## utiliza len()\n",
    "print(f'Yo,francisco tengo una familia de {len(mi_familia)} personas')\n"
   ]
  },
  {
   "cell_type": "markdown",
   "id": "38ef105e-a81e-466f-8d5d-8de96d553850",
   "metadata": {},
   "source": [
    "7. Completa el siguiente codigo para que si tienes 20 o más años de edad se imprima \"tengo mas de 20 años\" y sino, se imprima \"tengo menos de 20 años\" "
   ]
  },
  {
   "cell_type": "code",
   "execution_count": 39,
   "id": "02687bc5-a8f2-46cb-84ae-cbf581f0be9c",
   "metadata": {},
   "outputs": [
    {
     "name": "stdout",
     "output_type": "stream",
     "text": [
      "Tengo mas de 20 años\n"
     ]
    }
   ],
   "source": [
    "if mi_edad > 20:\n",
    "    print('Tengo mas de 20 años')\n",
    "    \n",
    "else:\n",
    "    print('Tengo 20 años o menos')\n",
    "    "
   ]
  },
  {
   "cell_type": "code",
   "execution_count": 18,
   "id": "c9bf7c6f-ed59-4e11-8d63-49b5ada9e3eb",
   "metadata": {},
   "outputs": [],
   "source": []
  }
 ],
 "metadata": {
  "kernelspec": {
   "display_name": "Python 3 (ipykernel)",
   "language": "python",
   "name": "python3"
  },
  "language_info": {
   "codemirror_mode": {
    "name": "ipython",
    "version": 3
   },
   "file_extension": ".py",
   "mimetype": "text/x-python",
   "name": "python",
   "nbconvert_exporter": "python",
   "pygments_lexer": "ipython3",
   "version": "3.11.4"
  }
 },
 "nbformat": 4,
 "nbformat_minor": 5
}
