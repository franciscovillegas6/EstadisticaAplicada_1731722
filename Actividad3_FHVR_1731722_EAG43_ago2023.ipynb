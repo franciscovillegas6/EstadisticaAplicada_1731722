{
 "cells": [
  {
   "cell_type": "markdown",
   "id": "15077421-4fb8-48e1-a360-252e20cde59a",
   "metadata": {},
   "source": [
    "# Ejercicio de Pandas"
   ]
  },
  {
   "cell_type": "markdown",
   "id": "453c7bc5-10c6-4adf-aec4-e14206fcf11f",
   "metadata": {},
   "source": [
    "Carga las 2 librerias que hemos visto a lo largo del curso junto con su \"apodo\"\n",
    "\n",
    "numpy, y pandas"
   ]
  },
  {
   "cell_type": "markdown",
   "id": "e49faae5-5c69-4680-a9ba-c33e25347850",
   "metadata": {},
   "source": [
    "**Coloca tu nombre y matricula** \n",
    "\n",
    "Nombre:Francisco Humberto Villegas Reyna\n",
    "\n",
    "Matricula:1731722"
   ]
  },
  {
   "cell_type": "markdown",
   "id": "98dba434",
   "metadata": {},
   "source": [
    "1. Carga las librerias básicas"
   ]
  },
  {
   "cell_type": "code",
   "execution_count": 2,
   "id": "c93b212d-5354-4a80-8de8-dd23f90d8f1a",
   "metadata": {},
   "outputs": [],
   "source": [
    "##### carga las dos librerias usadas (numpy, pandas ) \n",
    "import numpy as np\n",
    "import pandas as pd"
   ]
  },
  {
   "cell_type": "markdown",
   "id": "80e5a00d-5aeb-4ae0-be87-fb17cc86d3fd",
   "metadata": {
    "tags": []
   },
   "source": [
    "El siguiente comando importa un data frame desde un archivo csv de internet"
   ]
  },
  {
   "cell_type": "code",
   "execution_count": 3,
   "id": "48bf2527-df27-43d8-bdd0-20fae67e645e",
   "metadata": {},
   "outputs": [],
   "source": [
    "ventas = pd.read_csv('https://raw.githubusercontent.com/jimmyzac/Estadistica-Aplicada-FCFM-UANL/main/bases_datos/ventas2.csv')"
   ]
  },
  {
   "cell_type": "markdown",
   "id": "3ea4f5ac",
   "metadata": {},
   "source": [
    "En caso de que una cantidad contenga decimales, debe estar redondeada a un decimal"
   ]
  },
  {
   "cell_type": "markdown",
   "id": "e963be95",
   "metadata": {},
   "source": [
    "2. Características del dataframe"
   ]
  },
  {
   "cell_type": "code",
   "execution_count": 15,
   "id": "70524dc3-d37d-42e0-a570-21d022719a59",
   "metadata": {},
   "outputs": [
    {
     "name": "stdout",
     "output_type": "stream",
     "text": [
      "Nuestro DataFrame tiene  168 filas con  4 columnas y sus columnas se llaman  Año , Mes , Ventas , Gasto\n"
     ]
    }
   ],
   "source": [
    "#con código de python muestra cuantas filas y columnas tiene el dataframe y como se llaman las columnas\n",
    "filas=len(ventas.axes[0])\n",
    "columnas=len(ventas.axes[1])\n",
    "print('Nuestro DataFrame tiene ',filas, 'filas con ',columnas,'columnas y sus columnas se llaman ',ventas.columns.values[0],',',ventas.columns.values[1],',',ventas.columns.values[2],',',ventas.columns.values[3])"
   ]
  },
  {
   "cell_type": "code",
   "execution_count": 16,
   "id": "7256d6a9-86f1-4713-afe5-6564cd004bdc",
   "metadata": {},
   "outputs": [
    {
     "data": {
      "text/html": [
       "<div>\n",
       "<style scoped>\n",
       "    .dataframe tbody tr th:only-of-type {\n",
       "        vertical-align: middle;\n",
       "    }\n",
       "\n",
       "    .dataframe tbody tr th {\n",
       "        vertical-align: top;\n",
       "    }\n",
       "\n",
       "    .dataframe thead th {\n",
       "        text-align: right;\n",
       "    }\n",
       "</style>\n",
       "<table border=\"1\" class=\"dataframe\">\n",
       "  <thead>\n",
       "    <tr style=\"text-align: right;\">\n",
       "      <th></th>\n",
       "      <th>Año</th>\n",
       "      <th>Mes</th>\n",
       "      <th>Ventas</th>\n",
       "      <th>Gasto</th>\n",
       "    </tr>\n",
       "  </thead>\n",
       "  <tbody>\n",
       "    <tr>\n",
       "      <th>0</th>\n",
       "      <td>2010</td>\n",
       "      <td>Enero</td>\n",
       "      <td>1056</td>\n",
       "      <td>533</td>\n",
       "    </tr>\n",
       "    <tr>\n",
       "      <th>1</th>\n",
       "      <td>2010</td>\n",
       "      <td>Febrero</td>\n",
       "      <td>910</td>\n",
       "      <td>496</td>\n",
       "    </tr>\n",
       "    <tr>\n",
       "      <th>2</th>\n",
       "      <td>2010</td>\n",
       "      <td>Marzo</td>\n",
       "      <td>1095</td>\n",
       "      <td>695</td>\n",
       "    </tr>\n",
       "    <tr>\n",
       "      <th>3</th>\n",
       "      <td>2010</td>\n",
       "      <td>Abril</td>\n",
       "      <td>1157</td>\n",
       "      <td>599</td>\n",
       "    </tr>\n",
       "    <tr>\n",
       "      <th>4</th>\n",
       "      <td>2010</td>\n",
       "      <td>Mayo</td>\n",
       "      <td>969</td>\n",
       "      <td>490</td>\n",
       "    </tr>\n",
       "  </tbody>\n",
       "</table>\n",
       "</div>"
      ],
      "text/plain": [
       "    Año      Mes  Ventas  Gasto\n",
       "0  2010    Enero    1056    533\n",
       "1  2010  Febrero     910    496\n",
       "2  2010    Marzo    1095    695\n",
       "3  2010    Abril    1157    599\n",
       "4  2010     Mayo     969    490"
      ]
     },
     "execution_count": 16,
     "metadata": {},
     "output_type": "execute_result"
    }
   ],
   "source": [
    "#muestra las primeras 5 filas del dataframe\n",
    "ventas.head()"
   ]
  },
  {
   "cell_type": "markdown",
   "id": "2c10a937-50af-4d99-9dfe-9128a8e21fac",
   "metadata": {},
   "source": [
    "*ventas es una base de datos que contiene las ventas mensuales de una tienda X para los años 2010-2023*"
   ]
  },
  {
   "cell_type": "markdown",
   "id": "0f97e867-2de1-45ff-ba01-b5fed8e7fbe8",
   "metadata": {},
   "source": [
    "3. Crea una nueva columna que se llame **Ganancias** y que contenga la diferencia entre ventas-gastos "
   ]
  },
  {
   "cell_type": "code",
   "execution_count": 17,
   "id": "769b870a-802b-4c27-864d-f9a442e287bb",
   "metadata": {},
   "outputs": [],
   "source": [
    "## escribe aqui el código\n",
    "ventas['Ganancias']=ventas['Ventas']-ventas['Gasto']"
   ]
  },
  {
   "cell_type": "markdown",
   "id": "cf16e2ac-d08c-4a9a-96a6-a2fbecd794e3",
   "metadata": {},
   "source": [
    "4. Encuentra el mes-año con las ganancias más altas "
   ]
  },
  {
   "cell_type": "code",
   "execution_count": 18,
   "id": "0506853b-39e8-4a98-9607-7fe9e3fa4471",
   "metadata": {},
   "outputs": [
    {
     "data": {
      "text/html": [
       "<div>\n",
       "<style scoped>\n",
       "    .dataframe tbody tr th:only-of-type {\n",
       "        vertical-align: middle;\n",
       "    }\n",
       "\n",
       "    .dataframe tbody tr th {\n",
       "        vertical-align: top;\n",
       "    }\n",
       "\n",
       "    .dataframe thead th {\n",
       "        text-align: right;\n",
       "    }\n",
       "</style>\n",
       "<table border=\"1\" class=\"dataframe\">\n",
       "  <thead>\n",
       "    <tr style=\"text-align: right;\">\n",
       "      <th></th>\n",
       "      <th>Año</th>\n",
       "      <th>Mes</th>\n",
       "      <th>Ventas</th>\n",
       "      <th>Gasto</th>\n",
       "      <th>Ganancias</th>\n",
       "    </tr>\n",
       "  </thead>\n",
       "  <tbody>\n",
       "    <tr>\n",
       "      <th>91</th>\n",
       "      <td>2017</td>\n",
       "      <td>Agosto</td>\n",
       "      <td>1680</td>\n",
       "      <td>1088</td>\n",
       "      <td>592</td>\n",
       "    </tr>\n",
       "    <tr>\n",
       "      <th>82</th>\n",
       "      <td>2016</td>\n",
       "      <td>Noviembre</td>\n",
       "      <td>1533</td>\n",
       "      <td>952</td>\n",
       "      <td>581</td>\n",
       "    </tr>\n",
       "    <tr>\n",
       "      <th>9</th>\n",
       "      <td>2010</td>\n",
       "      <td>Octubre</td>\n",
       "      <td>1124</td>\n",
       "      <td>563</td>\n",
       "      <td>561</td>\n",
       "    </tr>\n",
       "    <tr>\n",
       "      <th>3</th>\n",
       "      <td>2010</td>\n",
       "      <td>Abril</td>\n",
       "      <td>1157</td>\n",
       "      <td>599</td>\n",
       "      <td>558</td>\n",
       "    </tr>\n",
       "    <tr>\n",
       "      <th>69</th>\n",
       "      <td>2015</td>\n",
       "      <td>Octubre</td>\n",
       "      <td>1412</td>\n",
       "      <td>869</td>\n",
       "      <td>543</td>\n",
       "    </tr>\n",
       "    <tr>\n",
       "      <th>...</th>\n",
       "      <td>...</td>\n",
       "      <td>...</td>\n",
       "      <td>...</td>\n",
       "      <td>...</td>\n",
       "      <td>...</td>\n",
       "    </tr>\n",
       "    <tr>\n",
       "      <th>161</th>\n",
       "      <td>2023</td>\n",
       "      <td>Junio</td>\n",
       "      <td>2120</td>\n",
       "      <td>2159</td>\n",
       "      <td>-39</td>\n",
       "    </tr>\n",
       "    <tr>\n",
       "      <th>157</th>\n",
       "      <td>2023</td>\n",
       "      <td>Febrero</td>\n",
       "      <td>2097</td>\n",
       "      <td>2137</td>\n",
       "      <td>-40</td>\n",
       "    </tr>\n",
       "    <tr>\n",
       "      <th>159</th>\n",
       "      <td>2023</td>\n",
       "      <td>Abril</td>\n",
       "      <td>1625</td>\n",
       "      <td>1679</td>\n",
       "      <td>-54</td>\n",
       "    </tr>\n",
       "    <tr>\n",
       "      <th>163</th>\n",
       "      <td>2023</td>\n",
       "      <td>Agosto</td>\n",
       "      <td>1759</td>\n",
       "      <td>1818</td>\n",
       "      <td>-59</td>\n",
       "    </tr>\n",
       "    <tr>\n",
       "      <th>160</th>\n",
       "      <td>2023</td>\n",
       "      <td>Mayo</td>\n",
       "      <td>2161</td>\n",
       "      <td>2262</td>\n",
       "      <td>-101</td>\n",
       "    </tr>\n",
       "  </tbody>\n",
       "</table>\n",
       "<p>168 rows × 5 columns</p>\n",
       "</div>"
      ],
      "text/plain": [
       "      Año        Mes  Ventas  Gasto  Ganancias\n",
       "91   2017     Agosto    1680   1088        592\n",
       "82   2016  Noviembre    1533    952        581\n",
       "9    2010    Octubre    1124    563        561\n",
       "3    2010      Abril    1157    599        558\n",
       "69   2015    Octubre    1412    869        543\n",
       "..    ...        ...     ...    ...        ...\n",
       "161  2023      Junio    2120   2159        -39\n",
       "157  2023    Febrero    2097   2137        -40\n",
       "159  2023      Abril    1625   1679        -54\n",
       "163  2023     Agosto    1759   1818        -59\n",
       "160  2023       Mayo    2161   2262       -101\n",
       "\n",
       "[168 rows x 5 columns]"
      ]
     },
     "execution_count": 18,
     "metadata": {},
     "output_type": "execute_result"
    }
   ],
   "source": [
    "## escribe aqui el código\n",
    "ventas.sort_values('Ganancias', ascending=False)"
   ]
  },
  {
   "cell_type": "markdown",
   "id": "9914fb6f-89f2-47e3-a1b2-a3a31388dd53",
   "metadata": {},
   "source": [
    "5. Calcula e imprime las ventas totales, gastos totales y ganancias totales de  todo el periodo\\\n",
    "Ejemplo de mensaje: **las ventas totales son: 5000**, etc"
   ]
  },
  {
   "cell_type": "code",
   "execution_count": 22,
   "id": "d538d912-e521-4878-aadf-7288917df0a9",
   "metadata": {},
   "outputs": [
    {
     "name": "stdout",
     "output_type": "stream",
     "text": [
      "Las ventas promedio son $ 1403.16\n",
      "El total de gastos fue $ 1078.11\n",
      "El total de ganancias fue de $ 325.05\n"
     ]
    }
   ],
   "source": [
    "## escribe aqui el código\n",
    "vprom = ventas['Ventas'].mean().round(2)\n",
    "GastosProm = ventas['Gasto'].mean().round(2)\n",
    "GanProm = ventas['Ganancias'].mean().round(2)\n",
    "print('Las ventas promedio son $',vprom)\n",
    "print('El total de gastos fue $',GastosProm)\n",
    "print('El total de ganancias fue de $',GanProm)"
   ]
  },
  {
   "cell_type": "markdown",
   "id": "38dae978-dc9f-4e6c-9902-98437bb6aa54",
   "metadata": {},
   "source": [
    "6. Calcula y muestra las ventas, gastos y ganancias para cada año\n"
   ]
  },
  {
   "cell_type": "code",
   "execution_count": 57,
   "id": "a6a89162-0e44-428c-bbdf-2fbef86eafb6",
   "metadata": {},
   "outputs": [
    {
     "name": "stderr",
     "output_type": "stream",
     "text": [
      "C:\\Users\\Lenovo\\AppData\\Local\\Temp\\ipykernel_9436\\3343838782.py:2: FutureWarning: Indexing with multiple keys (implicitly converted to a tuple of keys) will be deprecated, use a list instead.\n",
      "  VentasxAño = ventas.groupby('Año')['Ventas','Gasto','Ganancias'].agg(['sum'])\n"
     ]
    }
   ],
   "source": [
    "## escribe aqui el código\n",
    "VentasxAño = ventas.groupby('Año')['Ventas','Gasto','Ganancias'].agg(['sum'])\n",
    "VentasxAño=pd.DataFrame(VentasxAño)"
   ]
  },
  {
   "cell_type": "markdown",
   "id": "caffc594-8756-4b20-9f24-49e460ca7797",
   "metadata": {},
   "source": [
    "7. Calcula y muestra las ventas promedio mensuales del año 2015"
   ]
  },
  {
   "cell_type": "code",
   "execution_count": 58,
   "id": "6beb888c-8b82-4755-9184-2487451436d9",
   "metadata": {},
   "outputs": [
    {
     "data": {
      "text/plain": [
       "1245.92"
      ]
     },
     "execution_count": 58,
     "metadata": {},
     "output_type": "execute_result"
    }
   ],
   "source": [
    "## escribe aqui el código\n",
    "##Pista: primero filtra para el año 2015, luego selecciona la columna ventas \n",
    "año2015 = ventas[ventas['Año']==2015]\n",
    "año2015['Ventas'].mean().round(2)"
   ]
  },
  {
   "cell_type": "markdown",
   "id": "5a7f7347-3def-4fd7-a14a-4ee98b327da6",
   "metadata": {},
   "source": [
    "8. Calcula e imprime las ventas totales y ventas promedio para los eneros. Es decir, para enero de 2010, enero de 2011, enero 2012, etc "
   ]
  },
  {
   "cell_type": "code",
   "execution_count": 24,
   "id": "03387695-22af-481c-93e4-c0493df7a9a5",
   "metadata": {},
   "outputs": [],
   "source": [
    "## escribe aqui el código ventas totales\n",
    "##Pista: primero filtra los meses de enero, luego selecciona la columna ventas "
   ]
  },
  {
   "cell_type": "code",
   "execution_count": 25,
   "id": "dd6aad47",
   "metadata": {},
   "outputs": [
    {
     "data": {
      "text/plain": [
       "20073"
      ]
     },
     "execution_count": 25,
     "metadata": {},
     "output_type": "execute_result"
    }
   ],
   "source": [
    "## escribe aqui el código ventas promedio\n",
    "enero = ventas[ventas['Mes']=='Enero']\n",
    "enero['Ventas'].sum()"
   ]
  },
  {
   "cell_type": "markdown",
   "id": "f462b2c6-3d85-4c51-8958-d48716cdddd2",
   "metadata": {},
   "source": [
    "9. Calcula las ventas promedio por mes, y muestra los meses ordenados de menor a mayor según su promedio"
   ]
  },
  {
   "cell_type": "code",
   "execution_count": 28,
   "id": "9befa656-d898-49f8-b00c-f93485d05560",
   "metadata": {},
   "outputs": [
    {
     "data": {
      "text/html": [
       "<div>\n",
       "<style scoped>\n",
       "    .dataframe tbody tr th:only-of-type {\n",
       "        vertical-align: middle;\n",
       "    }\n",
       "\n",
       "    .dataframe tbody tr th {\n",
       "        vertical-align: top;\n",
       "    }\n",
       "\n",
       "    .dataframe thead th {\n",
       "        text-align: right;\n",
       "    }\n",
       "</style>\n",
       "<table border=\"1\" class=\"dataframe\">\n",
       "  <thead>\n",
       "    <tr style=\"text-align: right;\">\n",
       "      <th></th>\n",
       "      <th>mean</th>\n",
       "    </tr>\n",
       "    <tr>\n",
       "      <th>Mes</th>\n",
       "      <th></th>\n",
       "    </tr>\n",
       "  </thead>\n",
       "  <tbody>\n",
       "    <tr>\n",
       "      <th>Junio</th>\n",
       "      <td>1325.714286</td>\n",
       "    </tr>\n",
       "    <tr>\n",
       "      <th>Septiembre</th>\n",
       "      <td>1347.357143</td>\n",
       "    </tr>\n",
       "    <tr>\n",
       "      <th>Julio</th>\n",
       "      <td>1363.642857</td>\n",
       "    </tr>\n",
       "    <tr>\n",
       "      <th>Octubre</th>\n",
       "      <td>1388.285714</td>\n",
       "    </tr>\n",
       "    <tr>\n",
       "      <th>Marzo</th>\n",
       "      <td>1394.428571</td>\n",
       "    </tr>\n",
       "    <tr>\n",
       "      <th>Febrero</th>\n",
       "      <td>1406.357143</td>\n",
       "    </tr>\n",
       "    <tr>\n",
       "      <th>Mayo</th>\n",
       "      <td>1409.714286</td>\n",
       "    </tr>\n",
       "    <tr>\n",
       "      <th>Diciembre</th>\n",
       "      <td>1416.642857</td>\n",
       "    </tr>\n",
       "    <tr>\n",
       "      <th>Enero</th>\n",
       "      <td>1433.785714</td>\n",
       "    </tr>\n",
       "    <tr>\n",
       "      <th>Agosto</th>\n",
       "      <td>1437.857143</td>\n",
       "    </tr>\n",
       "    <tr>\n",
       "      <th>Noviembre</th>\n",
       "      <td>1456.642857</td>\n",
       "    </tr>\n",
       "    <tr>\n",
       "      <th>Abril</th>\n",
       "      <td>1457.500000</td>\n",
       "    </tr>\n",
       "  </tbody>\n",
       "</table>\n",
       "</div>"
      ],
      "text/plain": [
       "                   mean\n",
       "Mes                    \n",
       "Junio       1325.714286\n",
       "Septiembre  1347.357143\n",
       "Julio       1363.642857\n",
       "Octubre     1388.285714\n",
       "Marzo       1394.428571\n",
       "Febrero     1406.357143\n",
       "Mayo        1409.714286\n",
       "Diciembre   1416.642857\n",
       "Enero       1433.785714\n",
       "Agosto      1437.857143\n",
       "Noviembre   1456.642857\n",
       "Abril       1457.500000"
      ]
     },
     "execution_count": 28,
     "metadata": {},
     "output_type": "execute_result"
    }
   ],
   "source": [
    "## aqui va tu codigo\n",
    "VentasMes = ventas.groupby('Mes')['Ventas'].agg(['mean'])\n",
    "VentasMes = pd.DataFrame(VentasMes)\n",
    "VentasMes.sort_values('mean',ascending=True)\n"
   ]
  }
 ],
 "metadata": {
  "kernelspec": {
   "display_name": "Python 3 (ipykernel)",
   "language": "python",
   "name": "python3"
  },
  "language_info": {
   "codemirror_mode": {
    "name": "ipython",
    "version": 3
   },
   "file_extension": ".py",
   "mimetype": "text/x-python",
   "name": "python",
   "nbconvert_exporter": "python",
   "pygments_lexer": "ipython3",
   "version": "3.11.4"
  }
 },
 "nbformat": 4,
 "nbformat_minor": 5
}
